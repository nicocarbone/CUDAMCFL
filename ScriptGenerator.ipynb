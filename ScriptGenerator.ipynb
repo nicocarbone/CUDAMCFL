{
 "cells": [
  {
   "cell_type": "code",
   "execution_count": 1,
   "metadata": {
    "collapsed": false
   },
   "outputs": [],
   "source": [
    "templateFilename = \"template.mci\"\n",
    "mciFolder = \"/home/nicolas/CUDAMCFL/MCIs/\"\n",
    "resultsFolder = \"\"\n",
    "scriptFilename = \"/home/nicolas/CUDAMCFL/simualtionComp.sh\"\n",
    "bulkFilenameRoot = \"/home/nicolas/CUDAMCFL/BulkDesc/3Dbulk-wfr-a\"\n",
    "exeFilename = \"/home/nicolas/CUDAMCFL/cuda_fl\"\n",
    "outputLineNumber = 6\n",
    "sourceLineNumber = 13\n",
    "bulkLineNumber = 23\n",
    "with open(mciFolder+templateFilename, 'r') as file:\n",
    "    template = file.readlines()"
   ]
  },
  {
   "cell_type": "code",
   "execution_count": 4,
   "metadata": {
    "collapsed": false
   },
   "outputs": [],
   "source": [
    "with open(scriptFilename, 'w') as shfile:\n",
    "    for source in [4]:\n",
    "        for rot in range(12):\n",
    "            angle = rot*30\n",
    "            outputFileName = resultsFolder+\"s\"+str(source)+\"_a\"+str(angle)+\".dat\"\n",
    "            mciFileName = mciFolder+\"s\"+str(source)+\"_a\"+str(angle)+\".mci\"\n",
    "            scriptLine = exeFilename + \" \" + mciFileName + \" > \" + resultsFolder+ \"s\"+str(source)+\"_a\"+str(angle) + \".log\" + \"\\n\" \n",
    "            template[outputLineNumber] =  outputFileName+\"\\t\"+\"A\"+\"\\t\\n\"\n",
    "            template[sourceLineNumber] = str(source) + \"\\t\" + str(0) + \"\\t\" + str(0)+\"\\n\"\n",
    "            template[bulkLineNumber] = bulkFilenameRoot + str(round(angle))\n",
    "            shfile.write(scriptLine)\n",
    "            with open(mciFileName, 'w') as mcifile:\n",
    "                mcifile.writelines( template )"
   ]
  },
  {
   "cell_type": "code",
   "execution_count": null,
   "metadata": {
    "collapsed": true
   },
   "outputs": [],
   "source": []
  }
 ],
 "metadata": {
  "kernelspec": {
   "display_name": "Python 3",
   "language": "python",
   "name": "python3"
  },
  "language_info": {
   "codemirror_mode": {
    "name": "ipython",
    "version": 3
   },
   "file_extension": ".py",
   "mimetype": "text/x-python",
   "name": "python",
   "nbconvert_exporter": "python",
   "pygments_lexer": "ipython3",
   "version": "3.5.2+"
  }
 },
 "nbformat": 4,
 "nbformat_minor": 0
}
