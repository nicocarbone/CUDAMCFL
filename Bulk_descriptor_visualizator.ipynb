{
 "cells": [
  {
   "cell_type": "code",
   "execution_count": 1,
   "metadata": {
    "collapsed": false,
    "deletable": true,
    "editable": true
   },
   "outputs": [
    {
     "name": "stdout",
     "output_type": "stream",
     "text": [
      "Populating the interactive namespace from numpy and matplotlib\n"
     ]
    }
   ],
   "source": [
    "%pylab inline\n",
    "import numpy as np\n",
    "from matplotlib import pyplot as plt"
   ]
  },
  {
   "cell_type": "code",
   "execution_count": 2,
   "metadata": {
    "collapsed": false,
    "deletable": true,
    "editable": true
   },
   "outputs": [],
   "source": [
    "# Load external flat 3D matrix\n",
    "path = \"/home/nicolas/Documentos/Universidad/Sources/CUDA/CUDAMCFL/BulkDesc/\"\n",
    "filename = \"/home/nicolas/Documentos/Universidad/Sources/CUDA/CUDAMCFL/BulkDesc/jnirs-Cover10\"\n",
    "bulkDesc = np.genfromtxt(filename)"
   ]
  },
  {
   "cell_type": "code",
   "execution_count": 3,
   "metadata": {
    "collapsed": false,
    "deletable": true,
    "editable": true
   },
   "outputs": [
    {
     "name": "stdout",
     "output_type": "stream",
     "text": [
      "(100, 100, 25)\n"
     ]
    }
   ],
   "source": [
    "# Matrix info and unflatten matrix\n",
    "grid_size = 5\n",
    "thickness = 5\n",
    "size_lat = 4*thickness*grid_size\n",
    "size_depth = thickness*grid_size\n",
    "bulkDesc = bulkDesc.reshape(size_depth, size_lat, size_lat).T\n",
    "print(bulkDesc.shape)"
   ]
  },
  {
   "cell_type": "code",
   "execution_count": 5,
   "metadata": {
    "collapsed": false,
    "deletable": true,
    "editable": true
   },
   "outputs": [
    {
     "name": "stdout",
     "output_type": "stream",
     "text": [
      "[ 0.25  0.25  0.25]\n",
      "[24 40  4]\n"
     ]
    }
   ],
   "source": [
    "# Add source position for reference\n",
    "source = (-4, 0, 1)\n",
    "\n",
    "dbulk = np.empty(3, dtype=float)\n",
    "source_int = np.empty(3, dtype=int)\n",
    "\n",
    "dbulk[0] = 4*thickness/bulkDesc.shape[0]\n",
    "dbulk[1] = 4*thickness/bulkDesc.shape[1]\n",
    "dbulk[2] = thickness/bulkDesc.shape[2]\n",
    "print (dbulk)\n",
    "\n",
    "source_int[0]=int(round((source[0]+2*thickness)/dbulk[0]))\n",
    "source_int[1]=int(round((source[1]+2*thickness)/dbulk[1]))   \n",
    "source_int[2]=int(round((source[2])/dbulk[2]))\n",
    "print (source_int)\n",
    "\n",
    "#bulkDesc[source_int[0], source_int[1], source_int[2]]= 4"
   ]
  },
  {
   "cell_type": "code",
   "execution_count": 6,
   "metadata": {
    "collapsed": false,
    "deletable": true,
    "editable": true,
    "scrolled": false
   },
   "outputs": [
    {
     "data": {
      "text/plain": [
       "<matplotlib.colorbar.Colorbar at 0x7f84f253acc0>"
      ]
     },
     "execution_count": 6,
     "metadata": {},
     "output_type": "execute_result"
    },
    {
     "data": {
      "image/png": "[encoded data removed]",
      "text/plain": [
       "<matplotlib.figure.Figure at 0x7f84f262d0b8>"
      ]
     },
     "metadata": {},
     "output_type": "display_data"
    }
   ],
   "source": [
    "# Save image of z-cut\n",
    "plt.axis('off')\n",
    "plt.imshow(bulkDesc[: ,:,0].T,vmin=1,vmax=3)\n",
    "plt.savefig(path + \"3dBulk_trans2_z-cut.png\", dpi=300)\n",
    "plt.colorbar()"
   ]
  },
  {
   "cell_type": "code",
   "execution_count": 31,
   "metadata": {
    "collapsed": false,
    "deletable": true,
    "editable": true
   },
   "outputs": [
    {
     "data": {
      "image/png": "[encoded data removed]",
      "text/plain": [
       "<matplotlib.figure.Figure at 0x7fe013074c50>"
      ]
     },
     "metadata": {},
     "output_type": "display_data"
    }
   ],
   "source": [
    "# Save image of y-cut\n",
    "font = {'family' : 'ubuntu',\n",
    "        'weight' : 'normal',\n",
    "        'size'   : 30}\n",
    "plt.axis('off')\n",
    "matplotlib.rc('font', **font)\n",
    "plt.imshow(bulkDesc[:,40,:].T,vmin=1,vmax=3)\n",
    "plt.savefig(path + \"3dBulk_trans2_y-cut.png\", dpi=300)"
   ]
  },
  {
   "cell_type": "code",
   "execution_count": null,
   "metadata": {
    "collapsed": true,
    "deletable": true,
    "editable": true
   },
   "outputs": [],
   "source": []
  },
  {
   "cell_type": "code",
   "execution_count": null,
   "metadata": {
    "collapsed": true,
    "deletable": true,
    "editable": true
   },
   "outputs": [],
   "source": []
  }
 ],
 "metadata": {
  "kernelspec": {
   "display_name": "Python 3",
   "language": "python",
   "name": "python3"
  },
  "language_info": {
   "codemirror_mode": {
    "name": "ipython",
    "version": 3
   },
   "file_extension": ".py",
   "mimetype": "text/x-python",
   "name": "python",
   "nbconvert_exporter": "python",
   "pygments_lexer": "ipython3",
   "version": "3.5.2+"
  }
 },
 "nbformat": 4,
 "nbformat_minor": 0
}
