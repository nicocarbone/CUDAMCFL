{
 "cells": [
  {
   "cell_type": "code",
   "execution_count": 72,
   "metadata": {
    "collapsed": false
   },
   "outputs": [
    {
     "name": "stdout",
     "output_type": "stream",
     "text": [
      "Populating the interactive namespace from numpy and matplotlib\n"
     ]
    },
    {
     "name": "stderr",
     "output_type": "stream",
     "text": [
      "/home/nicolas/.local/lib/python3.5/site-packages/IPython/core/magics/pylab.py:161: UserWarning: pylab import has clobbered these variables: ['source']\n",
      "`%matplotlib` prevents importing * from pylab and numpy\n",
      "  \"\\n`%matplotlib` prevents importing * from pylab and numpy\"\n"
     ]
    }
   ],
   "source": [
    "%pylab inline\n",
    "import numpy as np\n",
    "from matplotlib import pyplot as plt"
   ]
  },
  {
   "cell_type": "code",
   "execution_count": 103,
   "metadata": {
    "collapsed": false
   },
   "outputs": [],
   "source": [
    "path = \"/home/nicolas/Documentos/Universidad/Sources/CUDA/CUDAMCFL/3cyls/\"\n",
    "filename = \"3Dbulk-3cyls-z4\"\n",
    "bulkDesc = np.genfromtxt(path + filename)"
   ]
  },
  {
   "cell_type": "code",
   "execution_count": 104,
   "metadata": {
    "collapsed": false
   },
   "outputs": [
    {
     "name": "stdout",
     "output_type": "stream",
     "text": [
      "(100, 100, 25)\n"
     ]
    }
   ],
   "source": [
    "grid_size = 5\n",
    "thickness = 5\n",
    "size_lat = 4*thickness*grid_size\n",
    "size_depth = thickness*grid_size\n",
    "bulkDesc = bulkDesc.reshape(size_depth, size_lat, size_lat).T\n",
    "print(bulkDesc.shape)"
   ]
  },
  {
   "cell_type": "code",
   "execution_count": 105,
   "metadata": {
    "collapsed": false
   },
   "outputs": [
    {
     "name": "stdout",
     "output_type": "stream",
     "text": [
      "[ 0.2  0.2  0.2]\n",
      "[30 50  5]\n"
     ]
    }
   ],
   "source": [
    "source = (-4, 0, 1)\n",
    "\n",
    "dbulk = np.empty(3, dtype=float)\n",
    "source_int = np.empty(3, dtype=int)\n",
    "\n",
    "dbulk[0] = 4*thickness/bulkDesc.shape[0]\n",
    "dbulk[1] = 4*thickness/bulkDesc.shape[1]\n",
    "dbulk[2] = thickness/bulkDesc.shape[2]\n",
    "print (dbulk)\n",
    "\n",
    "source_int[0]=int(round((source[0]+2*thickness)/dbulk[0]))\n",
    "source_int[1]=int(round((source[1]+2*thickness)/dbulk[1]))   \n",
    "source_int[2]=int(round((source[2])/dbulk[2]))\n",
    "print (source_int)\n",
    "\n",
    "#bulkDesc[source_int[0], source_int[1], source_int[2]]= 4"
   ]
  },
  {
   "cell_type": "code",
   "execution_count": 106,
   "metadata": {
    "collapsed": false,
    "scrolled": false
   },
   "outputs": [
    {
     "data": {
      "image/png": "[encoded data removed]",
      "text/plain": [
       "<matplotlib.figure.Figure at 0x7fdcab901860>"
      ]
     },
     "metadata": {},
     "output_type": "display_data"
    }
   ],
   "source": [
    "plt.imshow(bulkDesc[25:75,25:75,5].T,vmin=1)\n",
    "plt.savefig(path + filename + \"_z-cut.png\", dpi=300)"
   ]
  },
  {
   "cell_type": "code",
   "execution_count": 107,
   "metadata": {
    "collapsed": false
   },
   "outputs": [
    {
     "data": {
      "image/png": "[encoded data removed]",
      "text/plain": [
       "<matplotlib.figure.Figure at 0x7fdcb238ce80>"
      ]
     },
     "metadata": {},
     "output_type": "display_data"
    }
   ],
   "source": [
    "plt.imshow(bulkDesc[25:75,50,:].T,vmin=1)\n",
    "plt.savefig(path + filename + \"_y-cut.png\", dpi=300)"
   ]
  },
  {
   "cell_type": "code",
   "execution_count": null,
   "metadata": {
    "collapsed": true
   },
   "outputs": [],
   "source": []
  }
 ],
 "metadata": {
  "kernelspec": {
   "display_name": "Python 3",
   "language": "python",
   "name": "python3"
  },
  "language_info": {
   "codemirror_mode": {
    "name": "ipython",
    "version": 3
   },
   "file_extension": ".py",
   "mimetype": "text/x-python",
   "name": "python",
   "nbconvert_exporter": "python",
   "pygments_lexer": "ipython3",
   "version": "3.5.2+"
  }
 },
 "nbformat": 4,
 "nbformat_minor": 0
}
