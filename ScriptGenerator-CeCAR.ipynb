{
 "cells": [
  {
   "cell_type": "code",
   "execution_count": 1,
   "metadata": {},
   "outputs": [
    {
     "ename": "FileNotFoundError",
     "evalue": "[Errno 2] No such file or directory: '/home/nicolas/Documentos/Investigación/Simulaciones/Tomosintesis/template-tomsin.mci'",
     "output_type": "error",
     "traceback": [
      "\u001b[0;31m---------------------------------------------------------------------------\u001b[0m",
      "\u001b[0;31mFileNotFoundError\u001b[0m                         Traceback (most recent call last)",
      "\u001b[0;32m<ipython-input-1-b53893b76eca>\u001b[0m in \u001b[0;36m<module>\u001b[0;34m()\u001b[0m\n\u001b[1;32m     10\u001b[0m \u001b[0msourceLineNumber\u001b[0m \u001b[0;34m=\u001b[0m \u001b[0;36m14\u001b[0m\u001b[0;34m\u001b[0m\u001b[0m\n\u001b[1;32m     11\u001b[0m \u001b[0mbulkLineNumber\u001b[0m \u001b[0;34m=\u001b[0m \u001b[0;36m31\u001b[0m\u001b[0;34m\u001b[0m\u001b[0m\n\u001b[0;32m---> 12\u001b[0;31m \u001b[0;32mwith\u001b[0m \u001b[0mopen\u001b[0m\u001b[0;34m(\u001b[0m\u001b[0mmciFolder\u001b[0m\u001b[0;34m+\u001b[0m\u001b[0mtemplateFilename\u001b[0m\u001b[0;34m,\u001b[0m \u001b[0;34m'r'\u001b[0m\u001b[0;34m)\u001b[0m \u001b[0;32mas\u001b[0m \u001b[0mfile\u001b[0m\u001b[0;34m:\u001b[0m\u001b[0;34m\u001b[0m\u001b[0m\n\u001b[0m\u001b[1;32m     13\u001b[0m     \u001b[0mtemplate\u001b[0m \u001b[0;34m=\u001b[0m \u001b[0mfile\u001b[0m\u001b[0;34m.\u001b[0m\u001b[0mreadlines\u001b[0m\u001b[0;34m(\u001b[0m\u001b[0;34m)\u001b[0m\u001b[0;34m\u001b[0m\u001b[0m\n\u001b[1;32m     14\u001b[0m \u001b[0;31m#with open(templateScript, 'r') as fileS:\u001b[0m\u001b[0;34m\u001b[0m\u001b[0;34m\u001b[0m\u001b[0m\n",
      "\u001b[0;31mFileNotFoundError\u001b[0m: [Errno 2] No such file or directory: '/home/nicolas/Documentos/Investigación/Simulaciones/Tomosintesis/template-tomsin.mci'"
     ]
    }
   ],
   "source": [
    "templateFilename = \"template-jnirs-n1.mci\"\n",
    "templateScript = \"jnirs-array.sh\"\n",
    "mciFolder = \"/home/nicolas/CUDAMCFL/MCIs/\"\n",
    "mciPrefix = \"jnirs-noCover-z1\"\n",
    "resultsFolder = \"\"\n",
    "scriptFilename = \"/home/nicolas/CUDAMCFL/simualtionComp.sh\"\n",
    "bulkFilenameRoot = \"/home/ncarbone/CUDAMCFL/BulkDesc/jnirs-noCover-z1-a\"\n",
    "exeFilename = \"/home/ncarbone/CUDAMCFL/cuda_fl\"\n",
    "outputLineNumber = 6\n",
    "sourceLineNumber = 14\n",
    "bulkLineNumber = 24\n",
    "with open(mciFolder+templateFilename, 'r') as file:\n",
    "    template = file.readlines()\n",
    "#with open(templateScript, 'r') as fileS:\n",
    "    #templateS = fileS.readlines()"
   ]
  },
  {
   "cell_type": "code",
   "execution_count": 6,
   "metadata": {},
   "outputs": [
    {
     "name": "stdout",
     "output_type": "stream",
     "text": [
      "10\n",
      "20\n",
      "30\n",
      "40\n",
      "50\n",
      "60\n",
      "70\n",
      "80\n",
      "90\n",
      "100\n",
      "110\n",
      "120\n",
      "130\n",
      "140\n",
      "150\n",
      "160\n",
      "170\n",
      "180\n",
      "190\n",
      "200\n",
      "210\n",
      "220\n",
      "230\n",
      "240\n",
      "250\n",
      "260\n",
      "270\n",
      "280\n",
      "290\n",
      "300\n",
      "310\n",
      "320\n",
      "330\n",
      "340\n",
      "350\n",
      "360\n"
     ]
    }
   ],
   "source": [
    "#with open(scriptFilename, 'w') as shfile:\n",
    "    #for source in range(5):\n",
    "for rot in range(36):\n",
    "    angle = int((rot+1)*(360/36))\n",
    "    print(angle)\n",
    "    #outputFileName = resultsFolder+mciPrefix+ \"_\" + str(source)+\"_a\"+str(angle)+\".dat\"\n",
    "    outputFileName = resultsFolder+mciPrefix+\"s0\" + \"_a\"+str(angle)+\".dat\"\n",
    "    #mciFileName = mciFolder+mciPrefix + \"_\" +str(source)+\"_a\"+str(angle)+\".mci\"\n",
    "    mciFileName = mciFolder+mciPrefix +\"_a\"+str(angle)+\".mci\"\n",
    "    #scriptLine = exeFilename + \" \" + mciFileName + \" > \" + resultsFolder+ \"s\"+str(source)+\"_a\"+str(angle) + \".log\" + \"\\n\" \n",
    "    template[outputLineNumber] =  outputFileName+\"\\t\"+\"A\"+\"\\t\\n\"\n",
    "    #template[sourceLineNumber] = str(source) + \"\\t\" + str(0) + \"\\t\" + str(0)+\"\\n\"\n",
    "    template[bulkLineNumber] = bulkFilenameRoot + str(round(angle))\n",
    "            \n",
    "    #shfile.write(scriptLine)\n",
    "    with open(mciFileName, 'w') as mcifile:\n",
    "        mcifile.writelines( template )"
   ]
  },
  {
   "cell_type": "code",
   "execution_count": null,
   "metadata": {
    "collapsed": true
   },
   "outputs": [],
   "source": []
  }
 ],
 "metadata": {
  "kernelspec": {
   "display_name": "Python 3",
   "language": "python",
   "name": "python3"
  },
  "language_info": {
   "codemirror_mode": {
    "name": "ipython",
    "version": 3
   },
   "file_extension": ".py",
   "mimetype": "text/x-python",
   "name": "python",
   "nbconvert_exporter": "python",
   "pygments_lexer": "ipython3",
   "version": "3.6.5"
  }
 },
 "nbformat": 4,
 "nbformat_minor": 1
}
