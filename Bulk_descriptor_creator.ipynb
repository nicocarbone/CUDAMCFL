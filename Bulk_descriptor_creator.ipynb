{
 "cells": [
  {
   "cell_type": "code",
   "execution_count": 1,
   "metadata": {
    "collapsed": false
   },
   "outputs": [
    {
     "name": "stdout",
     "output_type": "stream",
     "text": [
      "Populating the interactive namespace from numpy and matplotlib\n"
     ]
    }
   ],
   "source": [
    "%pylab inline\n",
    "import numpy as np\n",
    "from matplotlib import pyplot as plt"
   ]
  },
  {
   "cell_type": "code",
   "execution_count": 2,
   "metadata": {
    "collapsed": false
   },
   "outputs": [],
   "source": [
    "def addSphere (mat3d, bulk_size, sph_pos, sph_r, desc):\n",
    "    \n",
    "    Nbulk = asarray(mat3d.shape)\n",
    "    dbulk = bulk_size/Nbulk\n",
    "    \n",
    "    voxel_inside = 0\n",
    "    \n",
    "    sph_pos_int = np.empty(3, dtype=int)\n",
    "    \n",
    "    sph_pos_int[0]=int(round((sph_pos[0]+bulk_size[0]/2)/dbulk[0]))\n",
    "    sph_pos_int[1]=int(round((sph_pos[1]+bulk_size[1]/2)/dbulk[1]))   \n",
    "    sph_pos_int[2]=int(round((sph_pos[2])/dbulk[2]))\n",
    "    sph_r_int=int(round(sph_r/dbulk[0]))\n",
    "    \n",
    "    for x in range(Nbulk[0]):\n",
    "        for y in range(Nbulk[1]):\n",
    "            for z in range(Nbulk[2]):\n",
    "                if (sqrt((x - sph_pos_int[0])**2  + (y - sph_pos_int[1])**2 + (z - sph_pos_int[2])**2) <= sph_r_int):\n",
    "                    mat3d[x,y,z] = desc\n",
    "                    voxel_inside += 1\n",
    "    print(voxel_inside, mat3d.size)"
   ]
  },
  {
   "cell_type": "code",
   "execution_count": 3,
   "metadata": {
    "collapsed": false
   },
   "outputs": [],
   "source": [
    "def addXYCyl (mat3d, bulk_size, cyl_pos, cyl_r, cyl_z, desc):\n",
    "    \n",
    "    Nbulk = asarray(mat3d.shape)\n",
    "    dbulk = bulk_size/Nbulk\n",
    "    \n",
    "    voxel_inside = 0\n",
    "    \n",
    "    cyl_pos_int = np.empty(3, dtype=int)\n",
    "    \n",
    "    cyl_pos_int[0]=int(round((cyl_pos[0]+bulk_size[0]/2)/dbulk[0]))\n",
    "    cyl_pos_int[1]=int(round((cyl_pos[1]+bulk_size[1]/2)/dbulk[1]))   \n",
    "    cyl_pos_int[2]=int(round((cyl_pos[2])/dbulk[2]))\n",
    "    cyl_r_int=int(round(cyl_r/dbulk[0]))\n",
    "    cyl_z_int=int(round(cyl_z/dbulk[1]))\n",
    "    \n",
    "    for x in range(Nbulk[0]):\n",
    "        for y in range(Nbulk[1]):\n",
    "            for z in range(Nbulk[2]):\n",
    "                if ((sqrt((x - cyl_pos_int[0])**2  + (y - cyl_pos_int[1])**2) <= cyl_r_int and abs(z - cyl_pos_int[1]) <= cyl_z_int/2)):\n",
    "                    mat3d[x,y,z] = desc\n",
    "                    voxel_inside += 1\n",
    "    print(voxel_inside, mat3d.size)"
   ]
  },
  {
   "cell_type": "code",
   "execution_count": 4,
   "metadata": {
    "collapsed": false
   },
   "outputs": [],
   "source": [
    "def addXZCyl (mat3d, bulk_size, cyl_pos, cyl_r, cyl_y, desc):\n",
    "    \n",
    "    Nbulk = asarray(mat3d.shape)\n",
    "    dbulk = bulk_size/Nbulk\n",
    "    \n",
    "    voxel_inside = 0\n",
    "    \n",
    "    cyl_pos_int = np.empty(3, dtype=int)\n",
    "    \n",
    "    cyl_pos_int[0]=int(round((cyl_pos[0]+bulk_size[0]/2)/dbulk[0]))\n",
    "    cyl_pos_int[1]=int(round((cyl_pos[1]+bulk_size[1]/2)/dbulk[1]))   \n",
    "    cyl_pos_int[2]=int(round((cyl_pos[2])/dbulk[2]))\n",
    "    cyl_r_int=int(round(cyl_r/dbulk[0]))\n",
    "    cyl_y_int=int(round(cyl_y/dbulk[1]))\n",
    "    \n",
    "    for x in range(Nbulk[0]):\n",
    "        for y in range(Nbulk[1]):\n",
    "            for z in range(Nbulk[2]):\n",
    "                if ((sqrt((x - cyl_pos_int[0])**2  + (z - cyl_pos_int[2])**2) <= cyl_r_int and abs(y - cyl_pos_int[1]) <= cyl_y_int/2)):\n",
    "                    mat3d[x,y,z] = desc                  \n",
    "                    voxel_inside += 1\n",
    "    print(voxel_inside, mat3d.size)"
   ]
  },
  {
   "cell_type": "code",
   "execution_count": 5,
   "metadata": {
    "collapsed": false
   },
   "outputs": [],
   "source": [
    "def addYZCyl (mat3d, bulk_size, cyl_pos, cyl_r, cyl_x, desc):\n",
    "    \n",
    "    Nbulk = asarray(mat3d.shape)\n",
    "    dbulk = bulk_size/Nbulk\n",
    "    \n",
    "    voxel_inside = 0\n",
    "    \n",
    "    cyl_pos_int = np.empty(3, dtype=int)\n",
    "    \n",
    "    cyl_pos_int[0]=int(round((cyl_pos[0]+bulk_size[0]/2)/dbulk[0]))\n",
    "    cyl_pos_int[1]=int(round((cyl_pos[1]+bulk_size[1]/2)/dbulk[1]))   \n",
    "    cyl_pos_int[2]=int(round((cyl_pos[2])/dbulk[2]))\n",
    "    cyl_r_int=int(round(cyl_r/dbulk[0]))\n",
    "    cyl_x_int=int(round(cyl_y/dbulk[1]))\n",
    "    \n",
    "    for x in range(Nbulk[0]):\n",
    "        for y in range(Nbulk[1]):\n",
    "            for z in range(Nbulk[2]):\n",
    "                if ((sqrt((y - cyl_pos_int[1])**2  + (z - cyl_pos_int[2])**2) <= cyl_r_int and abs(x - cyl_pos_int[0]) <= cyl_x_int/2)):\n",
    "                    mat3d[x,y,z] = desc\n",
    "                    voxel_inside += 1\n",
    "    print(voxel_inside, mat3d.size)"
   ]
  },
  {
   "cell_type": "code",
   "execution_count": 11,
   "metadata": {
    "collapsed": false
   },
   "outputs": [],
   "source": [
    "grid_size = 5\n",
    "thickness = 5\n",
    "size_lat = 4*thickness*grid_size\n",
    "size_depth = thickness*grid_size\n",
    "\n",
    "bulk3d = np.full((size_lat,size_lat,size_depth),1,dtype=int)\n",
    "bulk3d.shape\n",
    "bulk3d_size = [4*thickness, 4*thickness, thickness]"
   ]
  },
  {
   "cell_type": "markdown",
   "metadata": {
    "collapsed": false
   },
   "source": [
    "sphere_pos = (-1.9, 0, 1.35)\n",
    "addSphere(bulk3d, bulk3d_size, sphere_pos, 0.595, 2)\n",
    "\n",
    "slice_z = sphere_pos[2] * grid_size\n",
    "slice_x = sphere_pos[0] * grid_size + 2*thickness\n",
    "plt.imshow(bulk3d[40,:,:].T,vmin=1,vmax=2)\n",
    "#cbar = plt.colorbar()"
   ]
  },
  {
   "cell_type": "code",
   "execution_count": 12,
   "metadata": {
    "collapsed": false
   },
   "outputs": [
    {
     "name": "stdout",
     "output_type": "stream",
     "text": [
      "273 250000\n",
      "273 250000\n",
      "273 250000\n"
     ]
    },
    {
     "name": "stderr",
     "output_type": "stream",
     "text": [
      "/home/nicolas/.local/lib/python3.5/site-packages/ipykernel/__main__.py:8: VisibleDeprecationWarning: using a non-integer number instead of an integer will result in an error in the future\n"
     ]
    },
    {
     "data": {
      "image/png": "[encoded data removed]",
      "text/plain": [
       "<matplotlib.figure.Figure at 0x7f3394360630>"
      ]
     },
     "metadata": {},
     "output_type": "display_data"
    }
   ],
   "source": [
    "cyl_pos1 = (-3.5, 0, 4.)\n",
    "cyl_pos2 = (-1.5, 0, 4.)\n",
    "cyl_pos3 = (0.5, 0, 4.)\n",
    "addXZCyl(bulk3d, bulk3d_size, cyl_pos1, 0.5, 4, 2)\n",
    "addXZCyl(bulk3d, bulk3d_size, cyl_pos2, 0.5, 4, 2)\n",
    "addXZCyl(bulk3d, bulk3d_size, cyl_pos3, 0.5, 4, 2)\n",
    "\n",
    "plt.imshow(bulk3d[:,size_lat/2,:].T,vmin=1)\n",
    "cbar = plt.colorbar()"
   ]
  },
  {
   "cell_type": "code",
   "execution_count": 13,
   "metadata": {
    "collapsed": true
   },
   "outputs": [],
   "source": [
    "filename = \"3Dbulk-3cyls-4\"\n",
    "filename_back = \"3Dbulk-3cyls-fondo\""
   ]
  },
  {
   "cell_type": "code",
   "execution_count": 14,
   "metadata": {
    "collapsed": false
   },
   "outputs": [
    {
     "name": "stdout",
     "output_type": "stream",
     "text": [
      "(1, 250000)\n"
     ]
    }
   ],
   "source": [
    "bulk_flat = bulk3d.T.reshape(1,size_lat*size_lat*size_depth)\n",
    "print(bulk_flat.shape)\n",
    "with open(filename,\"wb\") as f:\n",
    "                savetxt(f, bulk_flat, fmt='%i', delimiter=\" \")"
   ]
  },
  {
   "cell_type": "code",
   "execution_count": 11,
   "metadata": {
    "collapsed": false
   },
   "outputs": [
    {
     "name": "stdout",
     "output_type": "stream",
     "text": [
      "(1, 250000)\n"
     ]
    }
   ],
   "source": [
    "bulk_flat_back = np.full((size_lat,size_lat,size_depth),1,dtype=int).reshape(1,size_lat*size_lat*size_depth)\n",
    "print(bulk_flat_back.shape)\n",
    "with open(filename_back,\"wb\") as f:\n",
    "                savetxt(f, bulk_flat_back, fmt='%i', delimiter=\" \")"
   ]
  },
  {
   "cell_type": "code",
   "execution_count": null,
   "metadata": {
    "collapsed": true
   },
   "outputs": [],
   "source": []
  }
 ],
 "metadata": {
  "kernelspec": {
   "display_name": "Python 3",
   "language": "python",
   "name": "python3"
  },
  "language_info": {
   "codemirror_mode": {
    "name": "ipython",
    "version": 3
   },
   "file_extension": ".py",
   "mimetype": "text/x-python",
   "name": "python",
   "nbconvert_exporter": "python",
   "pygments_lexer": "ipython3",
   "version": "3.5.2+"
  }
 },
 "nbformat": 4,
 "nbformat_minor": 0
}
