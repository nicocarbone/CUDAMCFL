{
 "cells": [
  {
   "cell_type": "code",
   "execution_count": 1,
   "metadata": {
    "collapsed": false
   },
   "outputs": [
    {
     "name": "stdout",
     "output_type": "stream",
     "text": [
      "Populating the interactive namespace from numpy and matplotlib\n"
     ]
    }
   ],
   "source": [
    "%pylab inline\n",
    "import numpy as np\n",
    "from matplotlib import pyplot as plt"
   ]
  },
  {
   "cell_type": "code",
   "execution_count": 2,
   "metadata": {
    "collapsed": false
   },
   "outputs": [],
   "source": [
    "# Function for adding an sphere\n",
    "def addSphere (mat3d, bulk_size, sph_pos, sph_r, desc):\n",
    "    \n",
    "    Nbulk = asarray(mat3d.shape)\n",
    "    dbulk = bulk_size/Nbulk\n",
    "    \n",
    "    voxel_inside = 0\n",
    "    \n",
    "    sph_pos_int = np.empty(3, dtype=int)\n",
    "    \n",
    "    sph_pos_int[0]=int(round((sph_pos[0]+bulk_size[0]/2)/dbulk[0]))\n",
    "    sph_pos_int[1]=int(round((sph_pos[1]+bulk_size[1]/2)/dbulk[1]))   \n",
    "    sph_pos_int[2]=int(round((sph_pos[2])/dbulk[2]))\n",
    "    sph_r_int=sph_r/dbulk[0]\n",
    "    \n",
    "    for x in range(Nbulk[0]):\n",
    "        for y in range(Nbulk[1]):\n",
    "            for z in range(Nbulk[2]):\n",
    "                if (sqrt((x - sph_pos_int[0])**2  + (y - sph_pos_int[1])**2 + (z - sph_pos_int[2])**2) <= sph_r_int):\n",
    "                    mat3d[x,y,z] = desc\n",
    "                    voxel_inside += 1\n",
    "    print(voxel_inside, mat3d.size)"
   ]
  },
  {
   "cell_type": "code",
   "execution_count": 3,
   "metadata": {
    "collapsed": false
   },
   "outputs": [],
   "source": [
    "# Funciotn for adding a cylinder in the XY plane\n",
    "def addXYCyl (mat3d, bulk_size, cyl_pos, cyl_r, cyl_z, desc):\n",
    "    \n",
    "    Nbulk = asarray(mat3d.shape)\n",
    "    dbulk = bulk_size/Nbulk\n",
    "    \n",
    "    voxel_inside = 0\n",
    "    \n",
    "    cyl_pos_int = np.empty(3, dtype=int)\n",
    "    \n",
    "    cyl_pos_int[0]=int(round((cyl_pos[0]+bulk_size[0]/2)/dbulk[0]))\n",
    "    cyl_pos_int[1]=int(round((cyl_pos[1]+bulk_size[1]/2)/dbulk[1]))   \n",
    "    cyl_pos_int[2]=int(round((cyl_pos[2])/dbulk[2]))\n",
    "    cyl_r_int=cyl_r/dbulk[0]\n",
    "    cyl_z_int=cyl_z/dbulk[1]\n",
    "    \n",
    "    for x in range(Nbulk[0]):\n",
    "        for y in range(Nbulk[1]):\n",
    "            for z in range(Nbulk[2]):\n",
    "                if ((sqrt((x - cyl_pos_int[0])**2  + (y - cyl_pos_int[1])**2) <= cyl_r_int and abs(z - cyl_pos_int[1]) <= cyl_z_int/2)):\n",
    "                    mat3d[x,y,z] = desc\n",
    "                    voxel_inside += 1\n",
    "    print(voxel_inside, mat3d.size)"
   ]
  },
  {
   "cell_type": "code",
   "execution_count": 4,
   "metadata": {
    "collapsed": false
   },
   "outputs": [],
   "source": [
    "# Funciotn for adding a cylinder in the XZ plane\n",
    "def addXZCyl (mat3d, bulk_size, cyl_pos, cyl_r, cyl_y, desc):\n",
    "    \n",
    "    Nbulk = asarray(mat3d.shape)\n",
    "    dbulk = bulk_size/Nbulk\n",
    "    \n",
    "    voxel_inside = 0\n",
    "    \n",
    "    cyl_pos_int = np.empty(3, dtype=int)\n",
    "    \n",
    "    cyl_pos_int[0]=int(round((cyl_pos[0]+bulk_size[0]/2)/dbulk[0]))\n",
    "    cyl_pos_int[1]=int(round((cyl_pos[1]+bulk_size[1]/2)/dbulk[1]))   \n",
    "    cyl_pos_int[2]=int(round((cyl_pos[2])/dbulk[2]))\n",
    "    cyl_r_int=cyl_r/dbulk[0]\n",
    "    cyl_y_int=cyl_y/dbulk[1]\n",
    "    \n",
    "    for x in range(Nbulk[0]):\n",
    "        for y in range(Nbulk[1]):\n",
    "            for z in range(Nbulk[2]):\n",
    "                if ((sqrt((x - cyl_pos_int[0])**2  + (z - cyl_pos_int[2])**2) <= cyl_r_int and abs(y - cyl_pos_int[1]) <= cyl_y_int/2)):\n",
    "                    mat3d[x,y,z] = desc                  \n",
    "                    voxel_inside += 1\n",
    "    print(voxel_inside, mat3d.size)"
   ]
  },
  {
   "cell_type": "code",
   "execution_count": 5,
   "metadata": {
    "collapsed": false
   },
   "outputs": [],
   "source": [
    "# Funciotn for adding a cylinder in the YZ plane\n",
    "def addYZCyl (mat3d, bulk_size, cyl_pos, cyl_r, cyl_x, desc):\n",
    "    \n",
    "    Nbulk = asarray(mat3d.shape)\n",
    "    dbulk = bulk_size/Nbulk\n",
    "    \n",
    "    voxel_inside = 0\n",
    "    \n",
    "    cyl_pos_int = np.empty(3, dtype=int)\n",
    "    \n",
    "    cyl_pos_int[0]=int(round((cyl_pos[0]+bulk_size[0]/2)/dbulk[0]))\n",
    "    cyl_pos_int[1]=int(round((cyl_pos[1]+bulk_size[1]/2)/dbulk[1]))   \n",
    "    cyl_pos_int[2]=int(round((cyl_pos[2])/dbulk[2]))\n",
    "    cyl_r_int=cyl_r/dbulk[0]\n",
    "    cyl_x_int=cyl_y/dbulk[1]\n",
    "    \n",
    "    for x in range(Nbulk[0]):\n",
    "        for y in range(Nbulk[1]):\n",
    "            for z in range(Nbulk[2]):\n",
    "                if ((sqrt((y - cyl_pos_int[1])**2  + (z - cyl_pos_int[2])**2) <= cyl_r_int and abs(x - cyl_pos_int[0]) <= cyl_x_int/2)):\n",
    "                    mat3d[x,y,z] = desc\n",
    "                    voxel_inside += 1\n",
    "    print(voxel_inside, mat3d.size)"
   ]
  },
  {
   "cell_type": "code",
   "execution_count": 11,
   "metadata": {
    "collapsed": false
   },
   "outputs": [
    {
     "name": "stdout",
     "output_type": "stream",
     "text": [
      "250000\n"
     ]
    }
   ],
   "source": [
    "# 3D bulk size info\n",
    "grid_size = 5\n",
    "thickness = 5\n",
    "size_lat = 4*thickness*grid_size\n",
    "size_depth = thickness*grid_size\n",
    "print(size_lat*size_lat*size_depth)"
   ]
  },
  {
   "cell_type": "code",
   "execution_count": 12,
   "metadata": {
    "collapsed": false
   },
   "outputs": [
    {
     "name": "stdout",
     "output_type": "stream",
     "text": [
      "93 250000\n"
     ]
    }
   ],
   "source": [
    "# Add spheres\n",
    "\n",
    "bulk3dSph = np.full((size_lat,size_lat,size_depth),1,dtype=int)\n",
    "bulk3dSph_size = [4*thickness, 4*thickness, thickness]\n",
    "\n",
    "sph_pos1 = (-1.9, 0, 1.35)\n",
    "#sph_pos2 = (-1, sqrt(3), 1.15)\n",
    "#sph_pos3 = (-1, -sqrt(3), 1.15)\n",
    "#sph_pos4 = (sqrt(15), 1, 1.15)\n",
    "#sph_pos5 = (sqrt(15), -1, 1.15)\n",
    "\n",
    "addSphere(bulk3dSph, bulk3dSph_size, sph_pos1, 0.595, 2)\n",
    "#addSphere(bulk3dSph, bulk3d_size, sph_pos2, 0.6, 2)\n",
    "#addSphere(bulk3dSph, bulk3d_size, sph_pos3, 0.6, 2)\n",
    "#addSphere(bulk3d, bulk3d_size, sph_pos4, 0.5, 2)\n",
    "#addSphere(bulk3d, bulk3d_size, sph_pos5, 0.5, 2)"
   ]
  },
  {
   "cell_type": "code",
   "execution_count": 13,
   "metadata": {
    "collapsed": false,
    "scrolled": true
   },
   "outputs": [
    {
     "data": {
      "image/png": "[encoded data removed]",
      "text/plain": [
       "<matplotlib.figure.Figure at 0x7f74ba0d6358>"
      ]
     },
     "metadata": {},
     "output_type": "display_data"
    }
   ],
   "source": [
    "plt.imshow(bulk3dSph[:,:,13].T,vmin=1)\n",
    "cbar = plt.colorbar()"
   ]
  },
  {
   "cell_type": "code",
   "execution_count": 27,
   "metadata": {
    "collapsed": false
   },
   "outputs": [
    {
     "name": "stdout",
     "output_type": "stream",
     "text": [
      "441 250000\n",
      "441 250000\n",
      "441 250000\n",
      "(1, 250000)\n"
     ]
    }
   ],
   "source": [
    "# Add cylinders\n",
    "\n",
    "bulk3dCyl = np.full((size_lat,size_lat,size_depth),1,dtype=int)\n",
    "bulk3dCyl_size = [4*thickness, 4*thickness, thickness]\n",
    "\n",
    "cyl_pos1 = (-3.5, 0, 1.)\n",
    "cyl_pos2 = (-1.5, 0, 1.)\n",
    "cyl_pos3 = (0.5, 0, 1.)\n",
    "\n",
    "addXZCyl(bulk3dCyl, bulk3dCyl_size, cyl_pos1, 0.5, 4, 2)\n",
    "addXZCyl(bulk3dCyl, bulk3dCyl_size, cyl_pos2, 0.5, 4, 2)\n",
    "addXZCyl(bulk3dCyl, bulk3dCyl_size, cyl_pos3, 0.5, 4, 2)\n",
    "\n",
    "filenameCyl = \"3Dbulk-cyl-z1\"\n",
    "\n",
    "bulk_flat = bulk3dCyl.T.reshape(1,size_lat*size_lat*size_depth)\n",
    "print(bulk_flat.shape)\n",
    "with open(filenameCyl,\"wb\") as f:\n",
    "                savetxt(f, bulk_flat, fmt='%i', delimiter=\" \")"
   ]
  },
  {
   "cell_type": "code",
   "execution_count": 28,
   "metadata": {
    "collapsed": false
   },
   "outputs": [
    {
     "name": "stderr",
     "output_type": "stream",
     "text": [
      "/home/nicolas/.local/lib/python3.5/site-packages/ipykernel/__main__.py:1: VisibleDeprecationWarning: using a non-integer number instead of an integer will result in an error in the future\n",
      "  if __name__ == '__main__':\n"
     ]
    },
    {
     "data": {
      "image/png": "[encoded data removed]",
      "text/plain": [
       "<matplotlib.figure.Figure at 0x7f74b9f26470>"
      ]
     },
     "metadata": {},
     "output_type": "display_data"
    }
   ],
   "source": [
    "plt.imshow(bulk3dCyl[:,size_lat/2,:].T,vmin=1)\n",
    "cbar = plt.colorbar()"
   ]
  },
  {
   "cell_type": "code",
   "execution_count": 74,
   "metadata": {
    "collapsed": true
   },
   "outputs": [],
   "source": [
    "# Filename for saving 3D bulk descriptos\n",
    "filenameSph = \"3Dbulk-sph-gs8\"\n",
    "filename_back = \"3Dbulk-fondo-gs8\""
   ]
  },
  {
   "cell_type": "code",
   "execution_count": 75,
   "metadata": {
    "collapsed": false
   },
   "outputs": [
    {
     "name": "stdout",
     "output_type": "stream",
     "text": [
      "(1, 1024000)\n"
     ]
    }
   ],
   "source": [
    "# Flatten matrix and save\n",
    "bulk_flat = bulk3dSph.T.reshape(1,size_lat*size_lat*size_depth)\n",
    "print(bulk_flat.shape)\n",
    "with open(filenameSph,\"wb\") as f:\n",
    "                savetxt(f, bulk_flat, fmt='%i', delimiter=\" \")"
   ]
  },
  {
   "cell_type": "code",
   "execution_count": 76,
   "metadata": {
    "collapsed": false
   },
   "outputs": [
    {
     "name": "stdout",
     "output_type": "stream",
     "text": [
      "(1, 1024000)\n"
     ]
    }
   ],
   "source": [
    "# Generate and save homogeneous matrix for background\n",
    "bulk_flat_back = np.full((size_lat,size_lat,size_depth),1,dtype=int).reshape(1,size_lat*size_lat*size_depth)\n",
    "print(bulk_flat_back.shape)\n",
    "with open(filename_back,\"wb\") as f:\n",
    "                savetxt(f, bulk_flat_back, fmt='%i', delimiter=\" \")"
   ]
  }
 ],
 "metadata": {
  "kernelspec": {
   "display_name": "Python 3",
   "language": "python",
   "name": "python3"
  },
  "language_info": {
   "codemirror_mode": {
    "name": "ipython",
    "version": 3
   },
   "file_extension": ".py",
   "mimetype": "text/x-python",
   "name": "python",
   "nbconvert_exporter": "python",
   "pygments_lexer": "ipython3",
   "version": "3.5.2+"
  }
 },
 "nbformat": 4,
 "nbformat_minor": 0
}
