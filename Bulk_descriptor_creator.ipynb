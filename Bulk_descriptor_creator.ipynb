{
 "cells": [
  {
   "cell_type": "code",
   "execution_count": 110,
   "metadata": {
    "collapsed": false
   },
   "outputs": [
    {
     "name": "stdout",
     "output_type": "stream",
     "text": [
      "Populating the interactive namespace from numpy and matplotlib\n"
     ]
    }
   ],
   "source": [
    "%pylab inline\n",
    "import numpy as np\n",
    "from matplotlib import pyplot as plt"
   ]
  },
  {
   "cell_type": "code",
   "execution_count": 111,
   "metadata": {
    "collapsed": false
   },
   "outputs": [],
   "source": [
    "def addSphere (mat3d, bulk_size, sph_pos, sph_r, desc):\n",
    "    \n",
    "    Nbulk = asarray(mat3d.shape)\n",
    "    dbulk = bulk_size/Nbulk\n",
    "    \n",
    "    voxel_inside = 0\n",
    "    \n",
    "    for x in range(Nbulk[0]):\n",
    "        for y in range(Nbulk[1]):\n",
    "            for z in range(Nbulk[2]):\n",
    "                pos_x = (x+0.5-Nbulk[0]/2)*dbulk[0]\n",
    "                pos_y = (y+0.5-Nbulk[1]/2)*dbulk[1]\n",
    "                pos_z = (z)*dbulk[2]\n",
    "                #print(pos_z)\n",
    "                if (((pos_x - sph_pos[0])**2  + (pos_y - sph_pos[1])**2 + (pos_z - sph_pos[2])**2) < sph_r**2):\n",
    "                    mat3d[x,y,z] = desc\n",
    "                    voxel_inside += 1\n",
    "    print(voxel_inside, mat3d.size)"
   ]
  },
  {
   "cell_type": "code",
   "execution_count": 112,
   "metadata": {
    "collapsed": false
   },
   "outputs": [],
   "source": [
    "def addXYCyl (mat3d, bulk_size, cyl_pos, cyl_r, cyl_z, desc):\n",
    "    \n",
    "    Nbulk = asarray(mat3d.shape)\n",
    "    dbulk = bulk_size/Nbulk\n",
    "    \n",
    "    voxel_inside = 0\n",
    "    \n",
    "    for x in range(Nbulk[0]):\n",
    "        for y in range(Nbulk[1]):\n",
    "            for z in range(Nbulk[2]):\n",
    "                pos_x = (x+0.5-Nbulk[0]/2)*dbulk[0]\n",
    "                pos_y = (y+0.5-Nbulk[1]/2)*dbulk[1]\n",
    "                pos_z = (z)*dbulk[2]\n",
    "                #print(pos_z)\n",
    "                if ((((pos_x - cyl_pos[0])**2  + (pos_y - cyl_pos[1])**2) < cyl_r**2) and abs(pos_z - cyl_pos[2]) < cyl_z):\n",
    "                    mat3d[x,y,z] = desc\n",
    "                    voxel_inside += 1\n",
    "    print(voxel_inside, mat3d.size)"
   ]
  },
  {
   "cell_type": "code",
   "execution_count": 113,
   "metadata": {
    "collapsed": false
   },
   "outputs": [],
   "source": [
    "def addXZCyl (mat3d, bulk_size, cyl_pos, cyl_r, cyl_y, desc):\n",
    "    \n",
    "    Nbulk = asarray(mat3d.shape)\n",
    "    dbulk = bulk_size/Nbulk\n",
    "    \n",
    "    voxel_inside = 0\n",
    "    \n",
    "    for x in range(Nbulk[0]):\n",
    "        for y in range(Nbulk[1]):\n",
    "            for z in range(Nbulk[2]):\n",
    "                pos_x = (x+0.5-Nbulk[0]/2)*dbulk[0]\n",
    "                pos_y = (y+0.5-Nbulk[1]/2)*dbulk[1]\n",
    "                pos_z = (z)*dbulk[2]\n",
    "                #print(pos_z)\n",
    "                if ((((pos_x - cyl_pos[0])**2  + (pos_z - cyl_pos[2])**2) < cyl_r**2) and abs(pos_y - cyl_pos[1]) < cyl_y):\n",
    "                    mat3d[x,y,z] = desc\n",
    "                    voxel_inside += 1\n",
    "    print(voxel_inside, mat3d.size)"
   ]
  },
  {
   "cell_type": "code",
   "execution_count": 113,
   "metadata": {
    "collapsed": false
   },
   "outputs": [],
   "source": [
    "def addYZCyl (mat3d, bulk_size, cyl_pos, cyl_r, cyl_x, desc):\n",
    "    \n",
    "    Nbulk = asarray(mat3d.shape)\n",
    "    dbulk = bulk_size/Nbulk\n",
    "    \n",
    "    voxel_inside = 0\n",
    "    \n",
    "    for x in range(Nbulk[0]):\n",
    "        for y in range(Nbulk[1]):\n",
    "            for z in range(Nbulk[2]):\n",
    "                pos_x = (x+0.5-Nbulk[0]/2)*dbulk[0]\n",
    "                pos_y = (y+0.5-Nbulk[1]/2)*dbulk[1]\n",
    "                pos_z = (z)*dbulk[2]\n",
    "                #print(pos_z)\n",
    "                if ((((pos_y - cyl_pos[1])**2  + (pos_z - cyl_pos[2])**2) < cyl_r**2) and abs(pos_x - cyl_pos[0]) < cyl_x):\n",
    "                    mat3d[x,y,z] = desc\n",
    "                    voxel_inside += 1\n",
    "    print(voxel_inside, mat3d.size)"
   ]
  },
  {
   "cell_type": "code",
   "execution_count": 114,
   "metadata": {
    "collapsed": false
   },
   "outputs": [],
   "source": [
    "grid_size = 5\n",
    "thickness = 5\n",
    "size_lat = 4*thickness*grid_size\n",
    "size_depth = thickness*grid_size\n",
    "\n",
    "bulk3d = np.full((size_lat,size_lat,size_depth),1,dtype=int) \n",
    "bulk3d.shape\n",
    "bulk3d_size = [4*thickness, 4*thickness, thickness]"
   ]
  },
  {
   "cell_type": "code",
   "execution_count": 115,
   "metadata": {
    "collapsed": false
   },
   "outputs": [
    {
     "name": "stdout",
     "output_type": "stream",
     "text": [
      "112 250000\n"
     ]
    },
    {
     "data": {
      "text/plain": [
       "<matplotlib.image.AxesImage at 0x7f93016054a8>"
      ]
     },
     "execution_count": 115,
     "metadata": {},
     "output_type": "execute_result"
    },
    {
     "data": {
      "image/png": "[encoded data removed]",
      "text/plain": [
       "<matplotlib.figure.Figure at 0x7f930150ea20>"
      ]
     },
     "metadata": {},
     "output_type": "display_data"
    }
   ],
   "source": [
    "sphere_pos = (-1.9, 0, 1.35)\n",
    "addSphere(bulk3d, bulk3d_size, sphere_pos, 0.595, 2)\n",
    "\n",
    "slice_z = sphere_pos[2] * grid_size\n",
    "slice_x = sphere_pos[0] * grid_size + 2*thickness\n",
    "plt.imshow(bulk3d[40,:,:].T,vmin=1,vmax=2)\n",
    "#cbar = plt.colorbar()"
   ]
  },
  {
   "cell_type": "code",
   "execution_count": 118,
   "metadata": {
    "collapsed": false
   },
   "outputs": [
    {
     "name": "stdout",
     "output_type": "stream",
     "text": [
      "1040 250000\n"
     ]
    },
    {
     "data": {
      "image/png": "[encoded data removed]",
      "text/plain": [
       "<matplotlib.figure.Figure at 0x7f930159ca90>"
      ]
     },
     "metadata": {},
     "output_type": "display_data"
    }
   ],
   "source": [
    "cyl_pos = (-1.9, 0, 2.35)\n",
    "addXZCyl(bulk3d, bulk3d_size, cyl_pos, 0.595, 4, 3)\n",
    "\n",
    "slice_z = sphere_pos[2] * grid_size\n",
    "slice_x = sphere_pos[0] * grid_size + 2*thickness\n",
    "plt.imshow(bulk3d[:,50,:].T,vmin=1)\n",
    "cbar = plt.colorbar()"
   ]
  },
  {
   "cell_type": "code",
   "execution_count": null,
   "metadata": {
    "collapsed": true
   },
   "outputs": [],
   "source": [
    "filename = \"3Dbulk-inclusion2-gs5-b\"\n",
    "filename_back = \"3Dbulk-fondo-gs5-b\""
   ]
  },
  {
   "cell_type": "code",
   "execution_count": 50,
   "metadata": {
    "collapsed": false
   },
   "outputs": [
    {
     "name": "stdout",
     "output_type": "stream",
     "text": [
      "(1, 250000)\n"
     ]
    }
   ],
   "source": [
    "bulk_flat_back = np.full((size_lat,size_lat,size_depth),1,dtype=int).reshape(1,size_lat*size_lat*size_depth)\n",
    "print(bulk_flat_back.shape)\n",
    "with open(filename_back,\"wb\") as f:\n",
    "                savetxt(f, bulk_flat_back, fmt='%i', delimiter=\" \")"
   ]
  },
  {
   "cell_type": "code",
   "execution_count": 51,
   "metadata": {
    "collapsed": false
   },
   "outputs": [
    {
     "name": "stdout",
     "output_type": "stream",
     "text": [
      "(1, 250000)\n"
     ]
    }
   ],
   "source": [
    "bulk_flat = bulk3d.T.reshape(1,size_lat*size_lat*size_depth)\n",
    "print(bulk_flat.shape)\n",
    "with open(filename,\"wb\") as f:\n",
    "                savetxt(f, bulk_flat, fmt='%i', delimiter=\" \")"
   ]
  }
 ],
 "metadata": {
  "kernelspec": {
   "display_name": "Python 3",
   "language": "python",
   "name": "python3"
  },
  "language_info": {
   "codemirror_mode": {
    "name": "ipython",
    "version": 3
   },
   "file_extension": ".py",
   "mimetype": "text/x-python",
   "name": "python",
   "nbconvert_exporter": "python",
   "pygments_lexer": "ipython3",
   "version": "3.5.2+"
  }
 },
 "nbformat": 4,
 "nbformat_minor": 0
}
