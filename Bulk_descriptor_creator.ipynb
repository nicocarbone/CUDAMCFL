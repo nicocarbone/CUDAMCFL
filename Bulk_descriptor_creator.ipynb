{
 "cells": [
  {
   "cell_type": "code",
   "execution_count": 23,
   "metadata": {
    "collapsed": false
   },
   "outputs": [
    {
     "name": "stdout",
     "output_type": "stream",
     "text": [
      "Populating the interactive namespace from numpy and matplotlib\n"
     ]
    },
    {
     "name": "stderr",
     "output_type": "stream",
     "text": [
      "WARNING: pylab import has clobbered these variables: ['f']\n",
      "`%matplotlib` prevents importing * from pylab and numpy\n"
     ]
    }
   ],
   "source": [
    "%pylab inline"
   ]
  },
  {
   "cell_type": "code",
   "execution_count": 24,
   "metadata": {
    "collapsed": true
   },
   "outputs": [],
   "source": [
    "sphere_pos = (-1.9, 0, 1.35)\n",
    "sphere_size =  0.595\n",
    "filename = \"3dbulk-inclusion2\"\n",
    "filename_back = \"3dbulk-fondo\""
   ]
  },
  {
   "cell_type": "code",
   "execution_count": 25,
   "metadata": {
    "collapsed": false
   },
   "outputs": [
    {
     "data": {
      "text/plain": [
       "(100, 100, 25)"
      ]
     },
     "execution_count": 25,
     "metadata": {},
     "output_type": "execute_result"
    }
   ],
   "source": [
    "grid_size = 5\n",
    "thickness = 5\n",
    "size_lat = 4*thickness*grid_size\n",
    "size_depth = thickness*grid_size\n",
    "bulk3d = np.full((size_lat,size_lat,size_depth),1,dtype=int) \n",
    "bulk3d.shape"
   ]
  },
  {
   "cell_type": "code",
   "execution_count": 26,
   "metadata": {
    "collapsed": true
   },
   "outputs": [],
   "source": [
    "bulk_flat_back = bulk3d.reshape(1,size_lat*size_lat*size_depth)\n",
    "bulk_flat_back.shape\n",
    "with open(filename_back,\"w\") as f:\n",
    "                savetxt(f, bulk_flat_back, fmt='%i', delimiter=\" \")"
   ]
  },
  {
   "cell_type": "code",
   "execution_count": 27,
   "metadata": {
    "collapsed": false
   },
   "outputs": [
    {
     "name": "stdout",
     "output_type": "stream",
     "text": [
      "(125, 250000)\n"
     ]
    }
   ],
   "source": [
    "voxel_inside = 0\n",
    "for x in range(size_lat):\n",
    "    for y in range(size_lat):\n",
    "        for z in range(size_depth):\n",
    "            pos_x = x / grid_size - 2*thickness\n",
    "            pos_y = y / grid_size - 2*thickness\n",
    "            pos_z = z / grid_size\n",
    "            if (((pos_x - sphere_pos[0])**2  + (pos_y - sphere_pos[1])**2 + (pos_z - sphere_pos[2])**2) < sphere_size**2):\n",
    "                bulk3d[x,y,z] = 2\n",
    "                voxel_inside += 1\n",
    "print(voxel_inside, bulk3d.size)\n"
   ]
  },
  {
   "cell_type": "code",
   "execution_count": 28,
   "metadata": {
    "collapsed": false
   },
   "outputs": [
    {
     "data": {
      "text/plain": [
       "(1, 250000)"
      ]
     },
     "execution_count": 28,
     "metadata": {},
     "output_type": "execute_result"
    }
   ],
   "source": [
    "bulk_flat = bulk3d.reshape(1,size_lat*size_lat*size_depth)\n",
    "bulk_flat.shape"
   ]
  },
  {
   "cell_type": "code",
   "execution_count": 29,
   "metadata": {
    "collapsed": false
   },
   "outputs": [],
   "source": [
    "with open(filename,\"w\") as f:\n",
    "                savetxt(f, bulk_flat, fmt='%i', delimiter=\" \")"
   ]
  },
  {
   "cell_type": "code",
   "execution_count": null,
   "metadata": {
    "collapsed": true
   },
   "outputs": [],
   "source": []
  }
 ],
 "metadata": {
  "kernelspec": {
   "display_name": "Python 2",
   "language": "python",
   "name": "python2"
  },
  "language_info": {
   "codemirror_mode": {
    "name": "ipython",
    "version": 2
   },
   "file_extension": ".py",
   "mimetype": "text/x-python",
   "name": "python",
   "nbconvert_exporter": "python",
   "pygments_lexer": "ipython2",
   "version": "2.7.12"
  }
 },
 "nbformat": 4,
 "nbformat_minor": 0
}
