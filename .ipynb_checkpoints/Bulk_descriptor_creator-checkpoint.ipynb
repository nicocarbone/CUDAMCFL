{
 "cells": [
  {
   "cell_type": "code",
   "execution_count": 1,
   "metadata": {
    "collapsed": false,
    "deletable": true,
    "editable": true
   },
   "outputs": [
    {
     "name": "stdout",
     "output_type": "stream",
     "text": [
      "Populating the interactive namespace from numpy and matplotlib\n"
     ]
    }
   ],
   "source": [
    "%pylab inline\n",
    "import numpy as np\n",
    "from scipy import ndimage\n",
    "from matplotlib import pyplot as plt"
   ]
  },
  {
   "cell_type": "code",
   "execution_count": 2,
   "metadata": {
    "collapsed": false,
    "deletable": true,
    "editable": true
   },
   "outputs": [],
   "source": [
    "# Function for adding an sphere\n",
    "def addSphere (mat3d, bulk_size, sph_pos, sph_r, desc):\n",
    "    \n",
    "    Nbulk = asarray(mat3d.shape)\n",
    "    dbulk = bulk_size/Nbulk\n",
    "    \n",
    "    voxel_inside = 0\n",
    "    \n",
    "    sph_pos_int = np.empty(3, dtype=int)\n",
    "    \n",
    "    sph_pos_int[0]=int(round((sph_pos[0]+bulk_size[0]/2)/dbulk[0]))\n",
    "    sph_pos_int[1]=int(round((sph_pos[1]+bulk_size[1]/2)/dbulk[1]))   \n",
    "    sph_pos_int[2]=int(round((sph_pos[2])/dbulk[2]))\n",
    "    sph_r_int=sph_r/dbulk[0]\n",
    "    \n",
    "    for x in range(Nbulk[0]):\n",
    "        for y in range(Nbulk[1]):\n",
    "            for z in range(Nbulk[2]):\n",
    "                if (sqrt((x - sph_pos_int[0])**2  + (y - sph_pos_int[1])**2 + (z - sph_pos_int[2])**2) <= sph_r_int):\n",
    "                    mat3d[x,y,z] = desc\n",
    "                    voxel_inside += 1\n",
    "    print(voxel_inside, mat3d.size)"
   ]
  },
  {
   "cell_type": "code",
   "execution_count": 3,
   "metadata": {
    "collapsed": false,
    "deletable": true,
    "editable": true
   },
   "outputs": [],
   "source": [
    "# Funciotn for adding a cylinder in the XY plane\n",
    "def addXYCyl (mat3d, bulk_size, cyl_pos, cyl_r, cyl_z, desc):\n",
    "    \n",
    "    Nbulk = asarray(mat3d.shape)\n",
    "    dbulk = bulk_size/Nbulk\n",
    "    \n",
    "    voxel_inside = 0\n",
    "    \n",
    "    cyl_pos_int = np.empty(3, dtype=int)\n",
    "    \n",
    "    cyl_pos_int[0]=int(round((cyl_pos[0]+bulk_size[0]/2)/dbulk[0]))\n",
    "    cyl_pos_int[1]=int(round((cyl_pos[1]+bulk_size[1]/2)/dbulk[1]))   \n",
    "    cyl_pos_int[2]=int(round((cyl_pos[2])/dbulk[2]))\n",
    "    cyl_r_int=cyl_r/dbulk[0]\n",
    "    cyl_z_int=cyl_z/dbulk[1]\n",
    "    \n",
    "    for x in range(Nbulk[0]):\n",
    "        for y in range(Nbulk[1]):\n",
    "            for z in range(Nbulk[2]):\n",
    "                if ((sqrt((x - cyl_pos_int[0])**2  + (y - cyl_pos_int[1])**2) <= cyl_r_int and abs(z - cyl_pos_int[1]) <= cyl_z_int/2)):\n",
    "                    mat3d[x,y,z] = desc\n",
    "                    voxel_inside += 1\n",
    "    print(voxel_inside, mat3d.size)"
   ]
  },
  {
   "cell_type": "code",
   "execution_count": 4,
   "metadata": {
    "collapsed": false,
    "deletable": true,
    "editable": true
   },
   "outputs": [],
   "source": [
    "# Funciotn for adding a cylinder in the XZ plane\n",
    "def addXZCyl (mat3d, bulk_size, cyl_pos, cyl_r, cyl_y, desc):\n",
    "    \n",
    "    Nbulk = asarray(mat3d.shape)\n",
    "    dbulk = bulk_size/Nbulk\n",
    "    \n",
    "    voxel_inside = 0\n",
    "    \n",
    "    cyl_pos_int = np.empty(3, dtype=int)\n",
    "    \n",
    "    cyl_pos_int[0]=int(round((cyl_pos[0]+bulk_size[0]/2)/dbulk[0]))\n",
    "    cyl_pos_int[1]=int(round((cyl_pos[1]+bulk_size[1]/2)/dbulk[1]))   \n",
    "    cyl_pos_int[2]=int(round((cyl_pos[2])/dbulk[2]))\n",
    "    cyl_r_int=cyl_r/dbulk[0]\n",
    "    cyl_y_int=cyl_y/dbulk[1]\n",
    "    \n",
    "    for x in range(Nbulk[0]):\n",
    "        for y in range(Nbulk[1]):\n",
    "            for z in range(Nbulk[2]):\n",
    "                if ((sqrt((x - cyl_pos_int[0])**2  + (z - cyl_pos_int[2])**2) <= cyl_r_int and abs(y - cyl_pos_int[1]) <= cyl_y_int/2)):\n",
    "                    mat3d[x,y,z] = desc                  \n",
    "                    voxel_inside += 1\n",
    "    print(voxel_inside, mat3d.size)"
   ]
  },
  {
   "cell_type": "code",
   "execution_count": 5,
   "metadata": {
    "collapsed": false,
    "deletable": true,
    "editable": true
   },
   "outputs": [],
   "source": [
    "# Funciotn for adding a cylinder in the YZ plane\n",
    "def addYZCyl (mat3d, bulk_size, cyl_pos, cyl_r, cyl_y, desc):\n",
    "    \n",
    "    Nbulk = asarray(mat3d.shape)\n",
    "    dbulk = bulk_size/Nbulk\n",
    "    \n",
    "    voxel_inside = 0\n",
    "    \n",
    "    cyl_pos_int = np.empty(3, dtype=int)\n",
    "    \n",
    "    cyl_pos_int[0]=int(round((cyl_pos[0]+bulk_size[0]/2)/dbulk[0]))\n",
    "    cyl_pos_int[1]=int(round((cyl_pos[1]+bulk_size[1]/2)/dbulk[1]))   \n",
    "    cyl_pos_int[2]=int(round((cyl_pos[2])/dbulk[2]))\n",
    "    cyl_r_int=cyl_r/dbulk[0]\n",
    "    cyl_y_int=cyl_y/dbulk[1]\n",
    "    \n",
    "    for x in range(Nbulk[0]):\n",
    "        for y in range(Nbulk[1]):\n",
    "            for z in range(Nbulk[2]):\n",
    "                if ((sqrt((y - cyl_pos_int[1])**2  + (z - cyl_pos_int[2])**2) <= cyl_r_int and abs(x - cyl_pos_int[0]) <= cyl_y_int/2)):\n",
    "                    mat3d[x,y,z] = desc\n",
    "                    voxel_inside += 1\n",
    "    print(voxel_inside, mat3d.size)"
   ]
  },
  {
   "cell_type": "code",
   "execution_count": 6,
   "metadata": {
    "collapsed": true,
    "deletable": true,
    "editable": true
   },
   "outputs": [],
   "source": [
    "def XYRotate (inMatrix, angle):\n",
    "    size_z = inMatrix.shape[2]\n",
    "    rotMatrix = inMatrix\n",
    "    for z_depth in range(size_z):\n",
    "         rotMatrix[:,:,z_depth] = ndimage.rotate(inMatrix[:,:,z_depth], angle, reshape=False, order=0, cval=1)\n",
    "    rotMatrix=np.ceil(rotMatrix)\n",
    "    return rotMatrix"
   ]
  },
  {
   "cell_type": "code",
   "execution_count": 7,
   "metadata": {
    "collapsed": false,
    "deletable": true,
    "editable": true
   },
   "outputs": [
    {
     "name": "stdout",
     "output_type": "stream",
     "text": [
      "128000\n"
     ]
    }
   ],
   "source": [
    "# 3D bulk size info\n",
    "grid_size = 4\n",
    "thickness = 5\n",
    "size_lat = 4*thickness*grid_size\n",
    "size_depth = thickness*grid_size\n",
    "print(size_lat*size_lat*size_depth)"
   ]
  },
  {
   "cell_type": "code",
   "execution_count": 9,
   "metadata": {
    "collapsed": false,
    "deletable": true,
    "editable": true
   },
   "outputs": [
    {
     "name": "stdout",
     "output_type": "stream",
     "text": [
      "57 128000\n",
      "57 128000\n"
     ]
    }
   ],
   "source": [
    "# Add spheres\n",
    "\n",
    "bulk3d = np.full((size_lat,size_lat,size_depth),1,dtype=int)\n",
    "bulk3d_size = [4*thickness, 4*thickness, thickness]\n",
    "\n",
    "sph_pos1 = (0, 0, 1.35)\n",
    "sph_pos2 = (-2, 0, 1.75)\n",
    "#sph_pos3 = (-1, -sqrt(3), 1.15)\n",
    "#sph_pos4 = (sqrt(15), 1, 1.15)\n",
    "#sph_pos5 = (sqrt(15), -1, 1.15)\n",
    "\n",
    "addSphere(bulk3d, bulk3d_size, sph_pos1, 0.585, 2)\n",
    "addSphere(bulk3d, bulk3d_size, sph_pos2, 0.6, 2)\n",
    "#addSphere(bulk3dSph, bulk3d_size, sph_pos3, 0.6, 2)\n",
    "#addSphere(bulk3d, bulk3d_size, sph_pos4, 0.5, 2)\n",
    "#addSphere(bulk3d, bulk3d_size, sph_pos5, 0.5, 2)"
   ]
  },
  {
   "cell_type": "code",
   "execution_count": 10,
   "metadata": {
    "collapsed": false,
    "deletable": true,
    "editable": true,
    "scrolled": false
   },
   "outputs": [
    {
     "data": {
      "image/png": "[encoded data removed]",
      "text/plain": [
       "<matplotlib.figure.Figure at 0x7f251ceaaa58>"
      ]
     },
     "metadata": {},
     "output_type": "display_data"
    }
   ],
   "source": [
    "plt.imshow(bulk3d[:,:,5].T,vmin=1)\n",
    "cbar = plt.colorbar()"
   ]
  },
  {
   "cell_type": "code",
   "execution_count": 11,
   "metadata": {
    "collapsed": false,
    "deletable": true,
    "editable": true
   },
   "outputs": [
    {
     "data": {
      "image/png": "[encoded data removed]",
      "text/plain": [
       "<matplotlib.figure.Figure at 0x7f251abc9470>"
      ]
     },
     "metadata": {},
     "output_type": "display_data"
    }
   ],
   "source": [
    "bulk3dRot = XYRotate(bulk3d, 45)\n",
    "\n",
    "plt.imshow(bulk3dRot[:,:,5].T)\n",
    "cbar = plt.colorbar()"
   ]
  },
  {
   "cell_type": "code",
   "execution_count": 24,
   "metadata": {
    "collapsed": false,
    "deletable": true,
    "editable": true
   },
   "outputs": [
    {
     "name": "stdout",
     "output_type": "stream",
     "text": [
      "221 128000\n",
      "221 128000\n",
      "221 128000\n"
     ]
    }
   ],
   "source": [
    "# Add cylinders\n",
    "\n",
    "bulk3dCyl = np.full((size_lat,size_lat,size_depth),1,dtype=int)\n",
    "bulk3dCyl_size = [4*thickness, 4*thickness, thickness]\n",
    "\n",
    "cyl_pos1 = (-3.5, 0, 1.)\n",
    "cyl_pos2 = (-1.5, 0, 1.)\n",
    "cyl_pos3 = (0.5, 0, 1.)\n",
    "\n",
    "addXZCyl(bulk3dCyl, bulk3dCyl_size, cyl_pos1, 0.5, 4, 2)\n",
    "addXZCyl(bulk3dCyl, bulk3dCyl_size, cyl_pos2, 0.5, 4, 2)\n",
    "addXZCyl(bulk3dCyl, bulk3dCyl_size, cyl_pos3, 0.5, 4, 2)"
   ]
  },
  {
   "cell_type": "code",
   "execution_count": 25,
   "metadata": {
    "collapsed": false,
    "deletable": true,
    "editable": true
   },
   "outputs": [
    {
     "data": {
      "image/png": "[encoded data removed]",
      "text/plain": [
       "<matplotlib.figure.Figure at 0x7f443e59e1d0>"
      ]
     },
     "metadata": {},
     "output_type": "display_data"
    }
   ],
   "source": [
    "plt.imshow(bulk3dCyl[:,:,5].T,vmin=1)\n",
    "cbar = plt.colorbar()"
   ]
  },
  {
   "cell_type": "code",
   "execution_count": 28,
   "metadata": {
    "collapsed": false,
    "deletable": true,
    "editable": true
   },
   "outputs": [
    {
     "name": "stdout",
     "output_type": "stream",
     "text": [
      "(1, 128000)\n"
     ]
    }
   ],
   "source": [
    "# Flatten matrix and save\n",
    "bulk_flat = bulk3dCyl.T.reshape(1,size_lat*size_lat*size_depth)\n",
    "print(bulk_flat.shape)\n",
    "\n",
    "filenameCyl = \"/home/nicolas/CUDAMCFL/BulkDesc/3Dbulk-wfr-cyl-z1\"\n",
    "with open(filenameCyl,\"wb\") as f:\n",
    "                savetxt(f, bulk_flat, fmt='%i', delimiter=\" \")"
   ]
  },
  {
   "cell_type": "code",
   "execution_count": 15,
   "metadata": {
    "collapsed": false,
    "deletable": true,
    "editable": true
   },
   "outputs": [
    {
     "ename": "NameError",
     "evalue": "name 'bulk3dSph' is not defined",
     "output_type": "error",
     "traceback": [
      "\u001b[0;31m---------------------------------------------------------------------------\u001b[0m",
      "\u001b[0;31mNameError\u001b[0m                                 Traceback (most recent call last)",
      "\u001b[0;32m<ipython-input-15-da7b94347b8d>\u001b[0m in \u001b[0;36m<module>\u001b[0;34m()\u001b[0m\n\u001b[1;32m      1\u001b[0m \u001b[0;31m# Flatten matrix and save\u001b[0m\u001b[0;34m\u001b[0m\u001b[0;34m\u001b[0m\u001b[0m\n\u001b[0;32m----> 2\u001b[0;31m \u001b[0mbulk_flat\u001b[0m \u001b[0;34m=\u001b[0m \u001b[0mbulk3dSph\u001b[0m\u001b[0;34m.\u001b[0m\u001b[0mT\u001b[0m\u001b[0;34m.\u001b[0m\u001b[0mreshape\u001b[0m\u001b[0;34m(\u001b[0m\u001b[0;36m1\u001b[0m\u001b[0;34m,\u001b[0m\u001b[0msize_lat\u001b[0m\u001b[0;34m*\u001b[0m\u001b[0msize_lat\u001b[0m\u001b[0;34m*\u001b[0m\u001b[0msize_depth\u001b[0m\u001b[0;34m)\u001b[0m\u001b[0;34m\u001b[0m\u001b[0m\n\u001b[0m\u001b[1;32m      3\u001b[0m \u001b[0mprint\u001b[0m\u001b[0;34m(\u001b[0m\u001b[0mbulk_flat\u001b[0m\u001b[0;34m.\u001b[0m\u001b[0mshape\u001b[0m\u001b[0;34m)\u001b[0m\u001b[0;34m\u001b[0m\u001b[0m\n\u001b[1;32m      4\u001b[0m \u001b[0;34m\u001b[0m\u001b[0m\n\u001b[1;32m      5\u001b[0m \u001b[0mfilenameSph\u001b[0m \u001b[0;34m=\u001b[0m \u001b[0;34m\"3Dbulk-sph-gs1\"\u001b[0m\u001b[0;34m\u001b[0m\u001b[0m\n",
      "\u001b[0;31mNameError\u001b[0m: name 'bulk3dSph' is not defined"
     ]
    }
   ],
   "source": [
    "# Flatten matrix and save\n",
    "bulk_flat = bulk3dSph.T.reshape(1,size_lat*size_lat*size_depth)\n",
    "print(bulk_flat.shape)\n",
    "\n",
    "filenameSph = \"3Dbulk-sph-gs1\"\n",
    "#with open(filenameSph,\"wb\") as f:\n",
    "#                savetxt(f, bulk_flat, fmt='%i', delimiter=\" \")"
   ]
  },
  {
   "cell_type": "code",
   "execution_count": null,
   "metadata": {
    "collapsed": false,
    "deletable": true,
    "editable": true
   },
   "outputs": [],
   "source": [
    "# Generate and save homogeneous matrix for background\n",
    "bulk_flat_back = np.full((size_lat,size_lat,size_depth),1,dtype=int).reshape(1,size_lat*size_lat*size_depth)\n",
    "print(bulk_flat_back.shape)\n",
    "\n",
    "filename_back = \"3Dbulk-fondo-gs1\"\n",
    "#with open(filename_back,\"wb\") as f:\n",
    "#                savetxt(f, bulk_flat_back, fmt='%i', delimiter=\" \")"
   ]
  },
  {
   "cell_type": "code",
   "execution_count": 12,
   "metadata": {
    "collapsed": false,
    "deletable": true,
    "editable": true
   },
   "outputs": [
    {
     "name": "stdout",
     "output_type": "stream",
     "text": [
      "128000\n",
      "57 128000\n",
      "205 128000\n",
      "205 128000\n"
     ]
    }
   ],
   "source": [
    "# Full simulation of whole field reflectance experiment\n",
    "# 3D bulk size info\n",
    "grid_size = 4\n",
    "thickness = 5\n",
    "size_lat = 4*thickness*grid_size\n",
    "size_depth = thickness*grid_size\n",
    "print(size_lat*size_lat*size_depth)\n",
    "\n",
    "# Add spheres\n",
    "\n",
    "bulk3d = np.full((size_lat,size_lat,size_depth),1,dtype=int)\n",
    "bulk3d_size = [4*thickness, 4*thickness, thickness]\n",
    "\n",
    "sph_pos1 = (-4.5, 0, 1.5)\n",
    "sph_pos2 = (0, 0, 1.5)\n",
    "sph_pos3 = (2.5, 2.5, 1.5)\n",
    "sph_pos4 = (-6.5, -4.5, 1.5)\n",
    "cyl_pos1 = (1.5, 0., 1.2)\n",
    "cyl_pos2 = (2.5, 0., 1.2)\n",
    "\n",
    "\n",
    "#addSphere(bulk3d, bulk3d_size, sph_pos1, 0.3, 2)\n",
    "addSphere(bulk3d, bulk3d_size, sph_pos4, 0.6, 2)\n",
    "#addSphere(bulk3d, bulk3d_size, sph_pos3, 0.3, 2)\n",
    "#addSphere(bulk3d, bulk3d_size, sph_pos4, 0.6, 2)\n",
    "\n",
    "addYZCyl(bulk3d, bulk3d_size, cyl_pos1, 0.3, 10, 2)\n",
    "addXZCyl(bulk3d, bulk3d_size, cyl_pos1, 0.3, 10, 2)"
   ]
  },
  {
   "cell_type": "code",
   "execution_count": 13,
   "metadata": {
    "collapsed": false,
    "deletable": true,
    "editable": true
   },
   "outputs": [
    {
     "data": {
      "text/plain": [
       "<matplotlib.image.AxesImage at 0x7f8d2454a668>"
      ]
     },
     "execution_count": 13,
     "metadata": {},
     "output_type": "execute_result"
    },
    {
     "data": {
      "image/png": "[encoded data removed]",
      "text/plain": [
       "<matplotlib.figure.Figure at 0x7f8d2446b0f0>"
      ]
     },
     "metadata": {},
     "output_type": "display_data"
    }
   ],
   "source": [
    "bulk3dTemp = XYRotate(bulk3d, 0)\n",
    "plt.imshow(bulk3dTemp[:,:,6].T,vmin=1)\n",
    "#cbar = plt.colorbar()"
   ]
  },
  {
   "cell_type": "code",
   "execution_count": 14,
   "metadata": {
    "collapsed": true,
    "deletable": true,
    "editable": true
   },
   "outputs": [],
   "source": [
    "filename = \"/home/nicolas/CUDAMCFL/BulkDesc/3Dbulk-wfr-trans2b\"\n",
    "with open(filename,\"wb\") as f:\n",
    "    savetxt(f, bulk3dTemp.T.reshape(1,size_lat*size_lat*size_depth), fmt='%i', delimiter=\" \")     "
   ]
  },
  {
   "cell_type": "code",
   "execution_count": 27,
   "metadata": {
    "collapsed": false,
    "deletable": true,
    "editable": true
   },
   "outputs": [
    {
     "data": {
      "image/png": "[encoded data removed]",
      "text/plain": [
       "<matplotlib.figure.Figure at 0x7f279a2039b0>"
      ]
     },
     "metadata": {},
     "output_type": "display_data"
    }
   ],
   "source": [
    "# Rotate the image to perform the normalization and the scanning\n",
    "numRots=1\n",
    "angle = 0\n",
    "for i in range (numRots):\n",
    "    bulk3dRot = np.full((size_lat,size_lat,size_depth),1,dtype=int)\n",
    "    angleRot = 360/numRots\n",
    "    angle += angleRot\n",
    "    bulk3dRot = XYRotate(bulk3d, angleRot)\n",
    "    fig = plt.figure()\n",
    "    plt.imshow(bulk3dRot[:,:,6].T,vmin=1)\n",
    "    plt.title(str(angle))\n",
    "    cbar = plt.colorbar()\n",
    "    filename = \"/home/nicolas/CUDAMCFL/BulkDesc/3Dbulk-wfr-trans-a\"+ str(round(angle))\n",
    "    with open(filename,\"wb\") as f:\n",
    "        savetxt(f, bulk3dRot.T.reshape(1,size_lat*size_lat*size_depth), fmt='%i', delimiter=\" \")        "
   ]
  },
  {
   "cell_type": "code",
   "execution_count": 9,
   "metadata": {
    "collapsed": false,
    "deletable": true,
    "editable": true
   },
   "outputs": [
    {
     "name": "stdout",
     "output_type": "stream",
     "text": [
      "100.0 25.0 250000.0\n",
      "[10.0, 10.0, 2.5]\n"
     ]
    },
    {
     "name": "stderr",
     "output_type": "stream",
     "text": [
      "/home/nicolas/.local/lib/python3.5/site-packages/numpy/core/numeric.py:297: VisibleDeprecationWarning: using a non-integer number instead of an integer will result in an error in the future\n",
      "  a = empty(shape, dtype, order)\n"
     ]
    },
    {
     "name": "stdout",
     "output_type": "stream",
     "text": [
      "7 250000\n",
      "33 250000\n"
     ]
    },
    {
     "name": "stderr",
     "output_type": "stream",
     "text": [
      "/home/nicolas/.local/lib/python3.5/site-packages/ipykernel/__main__.py:30: VisibleDeprecationWarning: using a non-integer number instead of an integer will result in an error in the future\n"
     ]
    }
   ],
   "source": [
    "# Full simulation of whole field reflectance experiment - Dog breast tummor\n",
    "# 3D bulk size info\n",
    "grid_size = 10\n",
    "thickness = 2.5\n",
    "size_lat = 4*thickness*grid_size\n",
    "size_depth = thickness*grid_size\n",
    "print(size_lat, size_depth, size_lat*size_lat*size_depth)\n",
    "\n",
    "bulk3d = np.full((size_lat,size_lat,size_depth),1,dtype=int)\n",
    "bulk3d_size = [4*thickness, 4*thickness, thickness]\n",
    "print (bulk3d_size)\n",
    "\n",
    "# Add muscle and skin\n",
    "for x in range(bulk3d.shape[0]):\n",
    "    for y in range(bulk3d.shape[1]):\n",
    "        for z in range(bulk3d.shape[2]):\n",
    "            if (z < 0.2*grid_size) : bulk3d[x,y,z] = 2 #skin\n",
    "            if (z > 0.7*grid_size and z <= 1.5*grid_size) : bulk3d[x,y,z] = 3 #muscle with fluo\n",
    "            if (z > 1.5*grid_size) : bulk3d[x,y,z] = 4 #muscle without fluo\n",
    "\n",
    "# Add tumors\n",
    "sph_pos1 = (-1, 1, 0.5)\n",
    "sph_pos2 = (2, -1, 0.5)\n",
    "addSphere(bulk3d, bulk3d_size, sph_pos1, 0.1, 5) #tumor\n",
    "addSphere(bulk3d, bulk3d_size, sph_pos2, 0.2, 5) #tumor\n",
    "\n",
    "#Save file\n",
    "filename = \"/home/nicolas/CUDAMCFL/BulkDesc/3Dbulk-wfr-dog\"\n",
    "with open(filename,\"wb\") as f:\n",
    "    savetxt(f, bulk3d.T.reshape(1,size_lat*size_lat*size_depth), fmt='%i', delimiter=\" \")   "
   ]
  },
  {
   "cell_type": "code",
   "execution_count": 13,
   "metadata": {
    "collapsed": false,
    "deletable": true,
    "editable": true
   },
   "outputs": [
    {
     "data": {
      "image/png": "[encoded data removed]",
      "text/plain": [
       "<matplotlib.figure.Figure at 0x7f443e6fc470>"
      ]
     },
     "metadata": {},
     "output_type": "display_data"
    }
   ],
   "source": [
    "plt.imshow(bulk3d[1,:,:].T,vmin=1)\n",
    "cbar = plt.colorbar()"
   ]
  },
  {
   "cell_type": "code",
   "execution_count": null,
   "metadata": {
    "collapsed": true,
    "deletable": true,
    "editable": true
   },
   "outputs": [],
   "source": []
  }
 ],
 "metadata": {
  "kernelspec": {
   "display_name": "Python 3",
   "language": "python",
   "name": "python3"
  },
  "language_info": {
   "codemirror_mode": {
    "name": "ipython",
    "version": 3
   },
   "file_extension": ".py",
   "mimetype": "text/x-python",
   "name": "python",
   "nbconvert_exporter": "python",
   "pygments_lexer": "ipython3",
   "version": "3.5.2+"
  }
 },
 "nbformat": 4,
 "nbformat_minor": 0
}
