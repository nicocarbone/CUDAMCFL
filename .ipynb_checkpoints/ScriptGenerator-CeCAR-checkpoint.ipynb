{
 "cells": [
  {
   "cell_type": "code",
   "execution_count": 1,
   "metadata": {
    "collapsed": false,
    "deletable": true,
    "editable": true
   },
   "outputs": [],
   "source": [
    "templateFilename = \"template.mci\"\n",
    "templateScript = \"cudamcfl-array.sh\"\n",
    "mciFolder = \"/home/nicolas/CUDAMCFL/MCIs/\"\n",
    "mciPrefix = \"s-cecar-wfr6\"\n",
    "resultsFolder = \"\"\n",
    "scriptFilename = \"/home/nicolas/CUDAMCFL/simualtionComp.sh\"\n",
    "bulkFilenameRoot = \"/home/ncarbone/CUDAMCFL/BulkDesc/3Dbulk-wfr6-a\"\n",
    "exeFilename = \"/home/ncarbone/CUDAMCFL/cuda_fl\"\n",
    "outputLineNumber = 6\n",
    "sourceLineNumber = 13\n",
    "bulkLineNumber = 23\n",
    "with open(mciFolder+templateFilename, 'r') as file:\n",
    "    template = file.readlines()\n",
    "with open(templateScript, 'r') as fileS:\n",
    "    templateS = fileS.readlines()"
   ]
  },
  {
   "cell_type": "code",
   "execution_count": 2,
   "metadata": {
    "collapsed": false,
    "deletable": true,
    "editable": true
   },
   "outputs": [
    {
     "name": "stdout",
     "output_type": "stream",
     "text": [
      "0 30\n"
     ]
    },
    {
     "ename": "IndexError",
     "evalue": "list assignment index out of range",
     "output_type": "error",
     "traceback": [
      "\u001b[0;31m---------------------------------------------------------------------------\u001b[0m",
      "\u001b[0;31mIndexError\u001b[0m                                Traceback (most recent call last)",
      "\u001b[0;32m<ipython-input-2-0ecebefbe899>\u001b[0m in \u001b[0;36m<module>\u001b[0;34m()\u001b[0m\n\u001b[1;32m      9\u001b[0m             \u001b[0mtemplate\u001b[0m\u001b[0;34m[\u001b[0m\u001b[0moutputLineNumber\u001b[0m\u001b[0;34m]\u001b[0m \u001b[0;34m=\u001b[0m  \u001b[0moutputFileName\u001b[0m\u001b[0;34m+\u001b[0m\u001b[0;34m\"\\t\"\u001b[0m\u001b[0;34m+\u001b[0m\u001b[0;34m\"A\"\u001b[0m\u001b[0;34m+\u001b[0m\u001b[0;34m\"\\t\\n\"\u001b[0m\u001b[0;34m\u001b[0m\u001b[0m\n\u001b[1;32m     10\u001b[0m             \u001b[0mtemplate\u001b[0m\u001b[0;34m[\u001b[0m\u001b[0msourceLineNumber\u001b[0m\u001b[0;34m]\u001b[0m \u001b[0;34m=\u001b[0m \u001b[0mstr\u001b[0m\u001b[0;34m(\u001b[0m\u001b[0msource\u001b[0m\u001b[0;34m)\u001b[0m \u001b[0;34m+\u001b[0m \u001b[0;34m\"\\t\"\u001b[0m \u001b[0;34m+\u001b[0m \u001b[0mstr\u001b[0m\u001b[0;34m(\u001b[0m\u001b[0;36m0\u001b[0m\u001b[0;34m)\u001b[0m \u001b[0;34m+\u001b[0m \u001b[0;34m\"\\t\"\u001b[0m \u001b[0;34m+\u001b[0m \u001b[0mstr\u001b[0m\u001b[0;34m(\u001b[0m\u001b[0;36m0\u001b[0m\u001b[0;34m)\u001b[0m\u001b[0;34m+\u001b[0m\u001b[0;34m\"\\n\"\u001b[0m\u001b[0;34m\u001b[0m\u001b[0m\n\u001b[0;32m---> 11\u001b[0;31m             \u001b[0mtemplate\u001b[0m\u001b[0;34m[\u001b[0m\u001b[0mbulkLineNumber\u001b[0m\u001b[0;34m]\u001b[0m \u001b[0;34m=\u001b[0m \u001b[0mbulkFilenameRoot\u001b[0m \u001b[0;34m+\u001b[0m \u001b[0mstr\u001b[0m\u001b[0;34m(\u001b[0m\u001b[0mround\u001b[0m\u001b[0;34m(\u001b[0m\u001b[0mangle\u001b[0m\u001b[0;34m)\u001b[0m\u001b[0;34m)\u001b[0m\u001b[0;34m\u001b[0m\u001b[0m\n\u001b[0m\u001b[1;32m     12\u001b[0m \u001b[0;34m\u001b[0m\u001b[0m\n\u001b[1;32m     13\u001b[0m             \u001b[0mshfile\u001b[0m\u001b[0;34m.\u001b[0m\u001b[0mwrite\u001b[0m\u001b[0;34m(\u001b[0m\u001b[0mscriptLine\u001b[0m\u001b[0;34m)\u001b[0m\u001b[0;34m\u001b[0m\u001b[0m\n",
      "\u001b[0;31mIndexError\u001b[0m: list assignment index out of range"
     ]
    }
   ],
   "source": [
    "with open(scriptFilename, 'w') as shfile:\n",
    "    for source in range(5):\n",
    "        for rot in range(12):\n",
    "            angle = (rot+1)*30\n",
    "            print(source, angle)\n",
    "            outputFileName = resultsFolder+mciPrefix+ \"_\" + str(source)+\"_a\"+str(angle)+\".dat\"\n",
    "            mciFileName = mciFolder+mciPrefix + \"_\" +str(source)+\"_a\"+str(angle)+\".mci\"\n",
    "            scriptLine = exeFilename + \" \" + mciFileName + \" > \" + resultsFolder+ \"s\"+str(source)+\"_a\"+str(angle) + \".log\" + \"\\n\" \n",
    "            template[outputLineNumber] =  outputFileName+\"\\t\"+\"A\"+\"\\t\\n\"\n",
    "            template[sourceLineNumber] = str(source) + \"\\t\" + str(0) + \"\\t\" + str(0)+\"\\n\"\n",
    "            template[bulkLineNumber] = bulkFilenameRoot + str(round(angle))\n",
    "            \n",
    "            shfile.write(scriptLine)\n",
    "            with open(mciFileName, 'w') as mcifile:\n",
    "                mcifile.writelines( template )"
   ]
  },
  {
   "cell_type": "code",
   "execution_count": null,
   "metadata": {
    "collapsed": true,
    "deletable": true,
    "editable": true
   },
   "outputs": [],
   "source": []
  }
 ],
 "metadata": {
  "kernelspec": {
   "display_name": "Python 3",
   "language": "python",
   "name": "python3"
  },
  "language_info": {
   "codemirror_mode": {
    "name": "ipython",
    "version": 3
   },
   "file_extension": ".py",
   "mimetype": "text/x-python",
   "name": "python",
   "nbconvert_exporter": "python",
   "pygments_lexer": "ipython3",
   "version": "3.5.2+"
  }
 },
 "nbformat": 4,
 "nbformat_minor": 0
}
