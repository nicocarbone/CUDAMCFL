{
 "cells": [
  {
   "cell_type": "code",
   "execution_count": 1,
   "metadata": {
    "collapsed": false,
    "deletable": true,
    "editable": true
   },
   "outputs": [],
   "source": [
    "templateFilename = \"template-translation.mci\"\n",
    "templateScript = \"cudamcfl-array.sh\"\n",
    "mciFolder = \"/home/nicolas/CUDAMCFL/MCIs/\"\n",
    "mciPrefix = \"s-cecar-wfr6\"\n",
    "resultsFolder = \"\"\n",
    "scriptFilename = \"/home/nicolas/CUDAMCFL/simualtionComp.sh\"\n",
    "bulkFilenameRoot = \"/home/ncarbone/CUDAMCFL/BulkDesc/3Dbulk-wfr6-a\"\n",
    "exeFilename = \"/home/ncarbone/CUDAMCFL/cuda_fl\"\n",
    "outputLineNumber = 6\n",
    "detCentLineNumber = 14\n",
    "sourceLineNumber = 13\n",
    "bulkLineNumber = 23\n",
    "with open(mciFolder+templateFilename, 'r') as file:\n",
    "    template = file.readlines()\n",
    "with open(templateScript, 'r') as fileS:\n",
    "    templateS = fileS.readlines()"
   ]
  },
  {
   "cell_type": "code",
   "execution_count": 3,
   "metadata": {
    "collapsed": false,
    "deletable": true,
    "editable": true
   },
   "outputs": [
    {
     "name": "stdout",
     "output_type": "stream",
     "text": [
      "-5 -5 1\n",
      "-5 -3 2\n",
      "-5 -1 3\n",
      "-5 1 4\n",
      "-5 3 5\n",
      "-5 5 6\n",
      "-3 -5 7\n",
      "-3 -3 8\n",
      "-3 -1 9\n",
      "-3 1 10\n",
      "-3 3 11\n",
      "-3 5 12\n",
      "-1 -5 13\n",
      "-1 -3 14\n",
      "-1 -1 15\n",
      "-1 1 16\n",
      "-1 3 17\n",
      "-1 5 18\n",
      "1 -5 19\n",
      "1 -3 20\n",
      "1 -1 21\n",
      "1 1 22\n",
      "1 3 23\n",
      "1 5 24\n",
      "3 -5 25\n",
      "3 -3 26\n",
      "3 -1 27\n",
      "3 1 28\n",
      "3 3 29\n",
      "3 5 30\n",
      "5 -5 31\n",
      "5 -3 32\n",
      "5 -1 33\n",
      "5 1 34\n",
      "5 3 35\n",
      "5 5 36\n"
     ]
    }
   ],
   "source": [
    "with open(scriptFilename, 'w') as shfile:\n",
    "    i=0\n",
    "    for xsource in range(-5, 6, 2):\n",
    "        for ysource in range(-5, 6, 2):\n",
    "            i=i+1\n",
    "            print(xsource, ysource, i)\n",
    "            outputFileName = resultsFolder+mciPrefix+ \"_\" + str(xsource) + \"_\" + str(ysource) + \"_i\"+str(i)+\".dat\"\n",
    "            mciFileName = mciFolder+mciPrefix + \"_\" + str(xsource) + \"_\" + str(ysource) + \"_i\"+str(i)+\".mci\"\n",
    "            template[outputLineNumber] =  outputFileName+\"\\t\"+\"A\"+\"\\t\\n\"\n",
    "            template[sourceLineNumber] = str(xsource) + \"\\t\" + str(ysource) + \"\\t\" + str(0)+\"\\n\"\n",
    "            template[detCentLineNumber] = str(xsource) + \"\\t\" + str(ysource) + \"\\t\\n\"\n",
    "            template[bulkLineNumber] = \"/home/ncarbone/CUDAMCFL/BulkDesc/3Dbulk-wfr-trans\"\n",
    "            with open(mciFileName, 'w') as mcifile:\n",
    "                mcifile.writelines( template )"
   ]
  },
  {
   "cell_type": "code",
   "execution_count": null,
   "metadata": {
    "collapsed": true,
    "deletable": true,
    "editable": true
   },
   "outputs": [],
   "source": []
  }
 ],
 "metadata": {
  "kernelspec": {
   "display_name": "Python 3",
   "language": "python",
   "name": "python3"
  },
  "language_info": {
   "codemirror_mode": {
    "name": "ipython",
    "version": 3
   },
   "file_extension": ".py",
   "mimetype": "text/x-python",
   "name": "python",
   "nbconvert_exporter": "python",
   "pygments_lexer": "ipython3",
   "version": "3.5.2+"
  }
 },
 "nbformat": 4,
 "nbformat_minor": 0
}
