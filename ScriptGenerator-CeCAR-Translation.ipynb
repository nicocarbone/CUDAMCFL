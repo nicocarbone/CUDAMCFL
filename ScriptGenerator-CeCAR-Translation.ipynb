{
 "cells": [
  {
   "cell_type": "code",
   "execution_count": 3,
   "metadata": {},
   "outputs": [],
   "source": [
    "templateFilename = \"template-translation-fl-3sph.mci\"\n",
    "templateScript = \"cudamcfl-array.sh\"\n",
    "mciFolder = \"/home/nicolas/Documentos/Investigación/Sources/CUDA/CUDAMCFL/MCIs/\"\n",
    "mciPrefix = \"s-cecar-wfr-trans-3sph-fl-2\"\n",
    "resultsFolder = \"\"\n",
    "scriptFilename = \"/home/nicolas/Documentos/Investigación/Sources/CUDA/CUDAMCFL/simualtionTrans3sph.sh\"\n",
    "bulkFilenameRoot = \"/home/ncarbone/CUDAMCFL/BulkDesc/\"\n",
    "bulkFilename = \"/home/ncarbone/CUDAMCFL/BulkDesc/3Dbulk-trans-3sph\"\n",
    "exeFilename = \"/home/ncarbone/CUDAMCFL/cuda_fl\"\n",
    "outputLineNumber = 6\n",
    "detCentLineNumber = 13\n",
    "sourceLineNumber = 14\n",
    "bulkLineNumber = 23\n",
    "with open(mciFolder+templateFilename, 'r') as file:\n",
    "    template = file.readlines()\n",
    "with open(templateScript, 'r') as fileS:\n",
    "    templateS = fileS.readlines()"
   ]
  },
  {
   "cell_type": "code",
   "execution_count": 1,
   "metadata": {},
   "outputs": [
    {
     "ename": "NameError",
     "evalue": "name 'scriptFilename' is not defined",
     "output_type": "error",
     "traceback": [
      "\u001b[0;31m---------------------------------------------------------------------------\u001b[0m",
      "\u001b[0;31mNameError\u001b[0m                                 Traceback (most recent call last)",
      "\u001b[0;32m<ipython-input-1-1991c3ea1689>\u001b[0m in \u001b[0;36m<module>\u001b[0;34m()\u001b[0m\n\u001b[0;32m----> 1\u001b[0;31m \u001b[0;32mwith\u001b[0m \u001b[0mopen\u001b[0m\u001b[0;34m(\u001b[0m\u001b[0mscriptFilename\u001b[0m\u001b[0;34m,\u001b[0m \u001b[0;34m'w'\u001b[0m\u001b[0;34m)\u001b[0m \u001b[0;32mas\u001b[0m \u001b[0mshfile\u001b[0m\u001b[0;34m:\u001b[0m\u001b[0;34m\u001b[0m\u001b[0m\n\u001b[0m\u001b[1;32m      2\u001b[0m     \u001b[0mi\u001b[0m\u001b[0;34m=\u001b[0m\u001b[0;36m0\u001b[0m\u001b[0;34m\u001b[0m\u001b[0m\n\u001b[1;32m      3\u001b[0m     \u001b[0;32mfor\u001b[0m \u001b[0mxsource\u001b[0m \u001b[0;32min\u001b[0m \u001b[0mrange\u001b[0m\u001b[0;34m(\u001b[0m\u001b[0;34m-\u001b[0m\u001b[0;36m5\u001b[0m\u001b[0;34m,\u001b[0m \u001b[0;36m5\u001b[0m\u001b[0;34m,\u001b[0m \u001b[0;36m1\u001b[0m\u001b[0;34m)\u001b[0m\u001b[0;34m:\u001b[0m\u001b[0;34m\u001b[0m\u001b[0m\n\u001b[1;32m      4\u001b[0m         \u001b[0;32mfor\u001b[0m \u001b[0mysource\u001b[0m \u001b[0;32min\u001b[0m \u001b[0mrange\u001b[0m\u001b[0;34m(\u001b[0m\u001b[0;34m-\u001b[0m\u001b[0;36m5\u001b[0m\u001b[0;34m,\u001b[0m \u001b[0;36m5\u001b[0m\u001b[0;34m,\u001b[0m \u001b[0;36m1\u001b[0m\u001b[0;34m)\u001b[0m\u001b[0;34m:\u001b[0m\u001b[0;34m\u001b[0m\u001b[0m\n\u001b[1;32m      5\u001b[0m             \u001b[0mi\u001b[0m\u001b[0;34m=\u001b[0m\u001b[0mi\u001b[0m\u001b[0;34m+\u001b[0m\u001b[0;36m1\u001b[0m\u001b[0;34m\u001b[0m\u001b[0m\n",
      "\u001b[0;31mNameError\u001b[0m: name 'scriptFilename' is not defined"
     ]
    }
   ],
   "source": [
    "with open(scriptFilename, 'w') as shfile:\n",
    "    i=0\n",
    "    for xsource in range(-5, 5, 1):\n",
    "        for ysource in range(-5, 5, 1):\n",
    "            i=i+1\n",
    "            print(\"{:.2f}\".format(xsource), \"{:.2f}\".format(ysource), i)\n",
    "            outputFileName = resultsFolder+mciPrefix+ \"_\" + \"{:.2f}\".format(xsource) + \"_\" + \"{:.2f}\".format(ysource) + \"_i\"+str(i)+\".dat\"\n",
    "            mciFileName = mciFolder+mciPrefix + \"_i\"+str(i)+\".mci\"\n",
    "            template[outputLineNumber] =  outputFileName+\"\\t\"+\"A\"+\"\\t\\n\"\n",
    "            template[sourceLineNumber] = \"{:.2f}\".format(xsource) + \"\\t\" + \"{:.2f}\".format(ysource) + \"\\t\" + str(0)+\"\\n\"\n",
    "            #template[detCentLineNumber] = str(xsource) + \"\\t\" + str(ysource) + \"\\t\\n\"\n",
    "            template[bulkLineNumber] = bulkFilename\n",
    "            with open(mciFileName, 'w') as mcifile:\n",
    "                mcifile.writelines( template )"
   ]
  },
  {
   "cell_type": "code",
   "execution_count": null,
   "metadata": {
    "collapsed": true
   },
   "outputs": [],
   "source": []
  }
 ],
 "metadata": {
  "kernelspec": {
   "display_name": "Python 3",
   "language": "python",
   "name": "python3"
  },
  "language_info": {
   "codemirror_mode": {
    "name": "ipython",
    "version": 3
   },
   "file_extension": ".py",
   "mimetype": "text/x-python",
   "name": "python",
   "nbconvert_exporter": "python",
   "pygments_lexer": "ipython3",
   "version": "3.6.5"
  }
 },
 "nbformat": 4,
 "nbformat_minor": 1
}
