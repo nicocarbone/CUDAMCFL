{
 "cells": [
  {
   "cell_type": "code",
   "execution_count": 22,
   "metadata": {
    "collapsed": false,
    "deletable": true,
    "editable": true
   },
   "outputs": [],
   "source": [
    "templateFilename = \"template-3cyls-fondo.mci\"\n",
    "templateScript = \"cudamcfl-array.sh\"\n",
    "mciFolder = \"/home/nicolas/CUDAMCFL/MCIs/\"\n",
    "mciPrefix = \"s-cecar-wfr-3cyls-fondo\"\n",
    "resultsFolder = \"\"\n",
    "scriptFilename = \"/home/nicolas/CUDAMCFL/simualtionComp.sh\"\n",
    "bulkFilenameRoot = \"/home/ncarbone/CUDAMCFL/BulkDesc/\"\n",
    "bulkFilename = \"/home/ncarbone/CUDAMCFL/BulkDesc/3Dbulk-fondo-gs4\"\n",
    "exeFilename = \"/home/ncarbone/CUDAMCFL/cuda_fl\"\n",
    "outputLineNumber = 6\n",
    "detCentLineNumber = 13\n",
    "sourceLineNumber = 14\n",
    "bulkLineNumber = 24\n",
    "with open(mciFolder+templateFilename, 'r') as file:\n",
    "    template = file.readlines()\n",
    "with open(templateScript, 'r') as fileS:\n",
    "    templateS = fileS.readlines()"
   ]
  },
  {
   "cell_type": "code",
   "execution_count": 23,
   "metadata": {
    "collapsed": false,
    "deletable": true,
    "editable": true
   },
   "outputs": [
    {
     "name": "stdout",
     "output_type": "stream",
     "text": [
      "-3 0 1\n",
      "-2 0 2\n",
      "-1 0 3\n",
      "0 0 4\n"
     ]
    }
   ],
   "source": [
    "with open(scriptFilename, 'w') as shfile:\n",
    "    i=0\n",
    "    for xsource in range(-3, 1, 1):\n",
    "        for ysource in range(0, 1, 1):\n",
    "            i=i+1\n",
    "            print(xsource, ysource, i)\n",
    "            outputFileName = resultsFolder+mciPrefix+ \"_\" + str(xsource) + \"_\" + str(ysource) + \"_i\"+str(i)+\".dat\"\n",
    "            mciFileName = mciFolder+mciPrefix + \"_i\"+str(i)+\".mci\"\n",
    "            template[outputLineNumber] =  outputFileName+\"\\t\"+\"A\"+\"\\t\\n\"\n",
    "            template[sourceLineNumber] = str(xsource) + \"\\t\" + str(ysource) + \"\\t\" + str(0)+\"\\n\"\n",
    "            #template[detCentLineNumber] = str(xsource) + \"\\t\" + str(ysource) + \"\\t\\n\"\n",
    "            template[bulkLineNumber] = bulkFilename\n",
    "            with open(mciFileName, 'w') as mcifile:\n",
    "                mcifile.writelines( template )"
   ]
  },
  {
   "cell_type": "code",
   "execution_count": null,
   "metadata": {
    "collapsed": true,
    "deletable": true,
    "editable": true
   },
   "outputs": [],
   "source": []
  }
 ],
 "metadata": {
  "kernelspec": {
   "display_name": "Python 3",
   "language": "python",
   "name": "python3"
  },
  "language_info": {
   "codemirror_mode": {
    "name": "ipython",
    "version": 3
   },
   "file_extension": ".py",
   "mimetype": "text/x-python",
   "name": "python",
   "nbconvert_exporter": "python",
   "pygments_lexer": "ipython3",
   "version": "3.5.2+"
  }
 },
 "nbformat": 4,
 "nbformat_minor": 0
}
