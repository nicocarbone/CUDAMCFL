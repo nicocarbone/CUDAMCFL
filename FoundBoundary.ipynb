{
 "cells": [
  {
   "cell_type": "code",
   "execution_count": 2,
   "metadata": {},
   "outputs": [
    {
     "data": {
      "text/plain": [
       "(x, y, z, d, dx, dy, dz, r, px, py, pz, cx, cy, cz)"
      ]
     },
     "execution_count": 2,
     "metadata": {},
     "output_type": "execute_result"
    }
   ],
   "source": [
    "var('x y z d dx dy dz r px py pz cx cy cz')"
   ]
  },
  {
   "cell_type": "code",
   "execution_count": 3,
   "metadata": {
    "collapsed": true
   },
   "outputs": [],
   "source": [
    "eq1 = dx == (px - x)/d\n",
    "eq2 = dy == (py - y)/d\n",
    "eq3 = dz == (pz - z)/d\n",
    "eq4 = (cx - x)^2 + (cy - y)^2 + (cz - z)^2 == r^2\n",
    "eq5 = dx^2 + dy^2 + dz^2 ==1"
   ]
  },
  {
   "cell_type": "code",
   "execution_count": 4,
   "metadata": {},
   "outputs": [
    {
     "data": {
      "text/plain": [
       "[d > 0, r > 0, dx^2 + dy^2 + dz^2 == 1]"
      ]
     },
     "execution_count": 4,
     "metadata": {},
     "output_type": "execute_result"
    }
   ],
   "source": [
    "assume(d>0)\n",
    "assume(r>0)\n",
    "assume(dx^2 + dy^2 + dz^2==1)\n",
    "assumptions()\n"
   ]
  },
  {
   "cell_type": "code",
   "execution_count": 5,
   "metadata": {},
   "outputs": [
    {
     "data": {
      "text/plain": [
       "[[x == (cx*dx^2 + cy*dx*dy + cz*dx*dz - dx*dy*py - dx*dz*pz + (dy^2 + dz^2)*px - sqrt(2*cx*cy*dx*dy - (cy^2 + cz^2)*dx^2 - (cx^2 + cz^2)*dy^2 - (cx^2 + cy^2)*dz^2 - (dy^2 + dz^2)*px^2 - (dx^2 + dz^2)*py^2 - (dx^2 + dy^2)*pz^2 + (dx^2 + dy^2 + dz^2)*r^2 + 2*(cx*cz*dx + cy*cz*dy)*dz - 2*(cy*dx*dy - cx*dy^2 + cz*dx*dz - cx*dz^2)*px + 2*(cy*dx^2 - cx*dx*dy - cz*dy*dz + cy*dz^2 + dx*dy*px)*py + 2*(cz*dx^2 + cz*dy^2 + dx*dz*px + dy*dz*py - (cx*dx + cy*dy)*dz)*pz)*dx)/(dx^2 + dy^2 + dz^2), y == (cy*dy^2 + cz*dy*dz - dx*dy*px - dy*dz*pz + (cx*dx - sqrt(-cy^2*dx^2 - cz^2*dx^2 + 2*cx*cy*dx*dy - cx^2*dy^2 - cz^2*dy^2 + 2*cx*cz*dx*dz + 2*cy*cz*dy*dz - cx^2*dz^2 - cy^2*dz^2 - 2*cy*dx*dy*px + 2*cx*dy^2*px - 2*cz*dx*dz*px + 2*cx*dz^2*px - dy^2*px^2 - dz^2*px^2 + 2*cy*dx^2*py - 2*cx*dx*dy*py - 2*cz*dy*dz*py + 2*cy*dz^2*py + 2*dx*dy*px*py - dx^2*py^2 - dz^2*py^2 + 2*cz*dx^2*pz + 2*cz*dy^2*pz - 2*cx*dx*dz*pz - 2*cy*dy*dz*pz + 2*dx*dz*px*pz + 2*dy*dz*py*pz - dx^2*pz^2 - dy^2*pz^2 + dx^2*r^2 + dy^2*r^2 + dz^2*r^2))*dy + (dx^2 + dz^2)*py)/(dx^2 + dy^2 + dz^2), z == (cz*dz^2 - dx*dz*px - dy*dz*py + (cx*dx + cy*dy - sqrt(-cy^2*dx^2 - cz^2*dx^2 + 2*cx*cy*dx*dy - cx^2*dy^2 - cz^2*dy^2 + 2*cx*cz*dx*dz + 2*cy*cz*dy*dz - cx^2*dz^2 - cy^2*dz^2 - 2*cy*dx*dy*px + 2*cx*dy^2*px - 2*cz*dx*dz*px + 2*cx*dz^2*px - dy^2*px^2 - dz^2*px^2 + 2*cy*dx^2*py - 2*cx*dx*dy*py - 2*cz*dy*dz*py + 2*cy*dz^2*py + 2*dx*dy*px*py - dx^2*py^2 - dz^2*py^2 + 2*cz*dx^2*pz + 2*cz*dy^2*pz - 2*cx*dx*dz*pz - 2*cy*dy*dz*pz + 2*dx*dz*px*pz + 2*dy*dz*py*pz - dx^2*pz^2 - dy^2*pz^2 + dx^2*r^2 + dy^2*r^2 + dz^2*r^2))*dz + (dx^2 + dy^2)*pz)/(dx^2 + dy^2 + dz^2), d == -(cx*dx + cy*dy + cz*dz - dx*px - dy*py - dz*pz - sqrt(-cy^2*dx^2 - cz^2*dx^2 + 2*cx*cy*dx*dy - cx^2*dy^2 - cz^2*dy^2 + 2*cx*cz*dx*dz + 2*cy*cz*dy*dz - cx^2*dz^2 - cy^2*dz^2 - 2*cy*dx*dy*px + 2*cx*dy^2*px - 2*cz*dx*dz*px + 2*cx*dz^2*px - dy^2*px^2 - dz^2*px^2 + 2*cy*dx^2*py - 2*cx*dx*dy*py - 2*cz*dy*dz*py + 2*cy*dz^2*py + 2*dx*dy*px*py - dx^2*py^2 - dz^2*py^2 + 2*cz*dx^2*pz + 2*cz*dy^2*pz - 2*cx*dx*dz*pz - 2*cy*dy*dz*pz + 2*dx*dz*px*pz + 2*dy*dz*py*pz - dx^2*pz^2 - dy^2*pz^2 + dx^2*r^2 + dy^2*r^2 + dz^2*r^2))/(dx^2 + dy^2 + dz^2)], [x == (cx*dx^2 + cy*dx*dy + cz*dx*dz - dx*dy*py - dx*dz*pz + (dy^2 + dz^2)*px + sqrt(2*cx*cy*dx*dy - (cy^2 + cz^2)*dx^2 - (cx^2 + cz^2)*dy^2 - (cx^2 + cy^2)*dz^2 - (dy^2 + dz^2)*px^2 - (dx^2 + dz^2)*py^2 - (dx^2 + dy^2)*pz^2 + (dx^2 + dy^2 + dz^2)*r^2 + 2*(cx*cz*dx + cy*cz*dy)*dz - 2*(cy*dx*dy - cx*dy^2 + cz*dx*dz - cx*dz^2)*px + 2*(cy*dx^2 - cx*dx*dy - cz*dy*dz + cy*dz^2 + dx*dy*px)*py + 2*(cz*dx^2 + cz*dy^2 + dx*dz*px + dy*dz*py - (cx*dx + cy*dy)*dz)*pz)*dx)/(dx^2 + dy^2 + dz^2), y == (cy*dy^2 + cz*dy*dz - dx*dy*px - dy*dz*pz + (cx*dx + sqrt(-cy^2*dx^2 - cz^2*dx^2 + 2*cx*cy*dx*dy - cx^2*dy^2 - cz^2*dy^2 + 2*cx*cz*dx*dz + 2*cy*cz*dy*dz - cx^2*dz^2 - cy^2*dz^2 - 2*cy*dx*dy*px + 2*cx*dy^2*px - 2*cz*dx*dz*px + 2*cx*dz^2*px - dy^2*px^2 - dz^2*px^2 + 2*cy*dx^2*py - 2*cx*dx*dy*py - 2*cz*dy*dz*py + 2*cy*dz^2*py + 2*dx*dy*px*py - dx^2*py^2 - dz^2*py^2 + 2*cz*dx^2*pz + 2*cz*dy^2*pz - 2*cx*dx*dz*pz - 2*cy*dy*dz*pz + 2*dx*dz*px*pz + 2*dy*dz*py*pz - dx^2*pz^2 - dy^2*pz^2 + dx^2*r^2 + dy^2*r^2 + dz^2*r^2))*dy + (dx^2 + dz^2)*py)/(dx^2 + dy^2 + dz^2), z == (cz*dz^2 - dx*dz*px - dy*dz*py + (cx*dx + cy*dy + sqrt(-cy^2*dx^2 - cz^2*dx^2 + 2*cx*cy*dx*dy - cx^2*dy^2 - cz^2*dy^2 + 2*cx*cz*dx*dz + 2*cy*cz*dy*dz - cx^2*dz^2 - cy^2*dz^2 - 2*cy*dx*dy*px + 2*cx*dy^2*px - 2*cz*dx*dz*px + 2*cx*dz^2*px - dy^2*px^2 - dz^2*px^2 + 2*cy*dx^2*py - 2*cx*dx*dy*py - 2*cz*dy*dz*py + 2*cy*dz^2*py + 2*dx*dy*px*py - dx^2*py^2 - dz^2*py^2 + 2*cz*dx^2*pz + 2*cz*dy^2*pz - 2*cx*dx*dz*pz - 2*cy*dy*dz*pz + 2*dx*dz*px*pz + 2*dy*dz*py*pz - dx^2*pz^2 - dy^2*pz^2 + dx^2*r^2 + dy^2*r^2 + dz^2*r^2))*dz + (dx^2 + dy^2)*pz)/(dx^2 + dy^2 + dz^2), d == -(cx*dx + cy*dy + cz*dz - dx*px - dy*py - dz*pz + sqrt(-cy^2*dx^2 - cz^2*dx^2 + 2*cx*cy*dx*dy - cx^2*dy^2 - cz^2*dy^2 + 2*cx*cz*dx*dz + 2*cy*cz*dy*dz - cx^2*dz^2 - cy^2*dz^2 - 2*cy*dx*dy*px + 2*cx*dy^2*px - 2*cz*dx*dz*px + 2*cx*dz^2*px - dy^2*px^2 - dz^2*px^2 + 2*cy*dx^2*py - 2*cx*dx*dy*py - 2*cz*dy*dz*py + 2*cy*dz^2*py + 2*dx*dy*px*py - dx^2*py^2 - dz^2*py^2 + 2*cz*dx^2*pz + 2*cz*dy^2*pz - 2*cx*dx*dz*pz - 2*cy*dy*dz*pz + 2*dx*dz*px*pz + 2*dy*dz*py*pz - dx^2*pz^2 - dy^2*pz^2 + dx^2*r^2 + dy^2*r^2 + dz^2*r^2))/(dx^2 + dy^2 + dz^2)]]"
      ]
     },
     "execution_count": 5,
     "metadata": {},
     "output_type": "execute_result"
    }
   ],
   "source": [
    "sol = solve([eq1, eq2, eq3, eq4], x,y,z,d)\n",
    "sol"
   ]
  },
  {
   "cell_type": "code",
   "execution_count": 8,
   "metadata": {},
   "outputs": [
    {
     "name": "stdout",
     "output_type": "stream",
     "text": [
      "d == -(cx*dx + cy*dy + cz*dz - dx*px - dy*py - dz*pz + sqrt(-cy^2*dx^2 - cz^2*dx^2 + 2*cx*cy*dx*dy - cx^2*dy^2 - cz^2*dy^2 + 2*cx*cz*dx*dz + 2*cy*cz*dy*dz - cx^2*dz^2 - cy^2*dz^2 - 2*cy*dx*dy*px + 2*cx*dy^2*px - 2*cz*dx*dz*px + 2*cx*dz^2*px - dy^2*px^2 - dz^2*px^2 + 2*cy*dx^2*py - 2*cx*dx*dy*py - 2*cz*dy*dz*py + 2*cy*dz^2*py + 2*dx*dy*px*py - dx^2*py^2 - dz^2*py^2 + 2*cz*dx^2*pz + 2*cz*dy^2*pz - 2*cx*dx*dz*pz - 2*cy*dy*dz*pz + 2*dx*dz*px*pz + 2*dy*dz*py*pz - dx^2*pz^2 - dy^2*pz^2 + dx^2*r^2 + dy^2*r^2 + dz^2*r^2))/(dx^2 + dy^2 + dz^2)\n"
     ]
    },
    {
     "data": {
      "text/plain": [
       "-(cx*dx + cy*dy + cz*dz - dx*px - dy*py - dz*pz - sqrt(2*cx*cy*dx*dy - (cy^2 + cz^2)*dx^2 - (cx^2 + cz^2)*dy^2 - (cx^2 + cy^2)*dz^2 - (dy^2 + dz^2)*px^2 - (dx^2 + dz^2)*py^2 - (dx^2 + dy^2)*pz^2 + (dx^2 + dy^2 + dz^2)*r^2 + 2*(cx*cz*dx + cy*cz*dy)*dz - 2*(cy*dx*dy - cx*dy^2 + cz*dx*dz - cx*dz^2)*px + 2*(cy*dx^2 - cx*dx*dy - cz*dy*dz + cy*dz^2 + dx*dy*px)*py + 2*(cz*dx^2 + cz*dy^2 + dx*dz*px + dy*dz*py - (cx*dx + cy*dy)*dz)*pz))/(dx^2 + dy^2 + dz^2)"
      ]
     },
     "execution_count": 8,
     "metadata": {},
     "output_type": "execute_result"
    }
   ],
   "source": [
    "print(sol[1][3])\n",
    "sol[0][3].rhs().full_simplify()"
   ]
  },
  {
   "cell_type": "code",
   "execution_count": 9,
   "metadata": {},
   "outputs": [
    {
     "name": "stdout",
     "output_type": "stream",
     "text": [
      "d == -(cx*dx + cy*dy + cz*dz - dx*px - dy*py - dz*pz - sqrt(-cy^2*dx^2 - cz^2*dx^2 + 2*cx*cy*dx*dy - cx^2*dy^2 - cz^2*dy^2 + 2*cx*cz*dx*dz + 2*cy*cz*dy*dz - cx^2*dz^2 - cy^2*dz^2 - 2*cy*dx*dy*px + 2*cx*dy^2*px - 2*cz*dx*dz*px + 2*cx*dz^2*px - dy^2*px^2 - dz^2*px^2 + 2*cy*dx^2*py - 2*cx*dx*dy*py - 2*cz*dy*dz*py + 2*cy*dz^2*py + 2*dx*dy*px*py - dx^2*py^2 - dz^2*py^2 + 2*cz*dx^2*pz + 2*cz*dy^2*pz - 2*cx*dx*dz*pz - 2*cy*dy*dz*pz + 2*dx*dz*px*pz + 2*dy*dz*py*pz - dx^2*pz^2 - dy^2*pz^2 + dx^2*r^2 + dy^2*r^2 + dz^2*r^2))/(dx^2 + dy^2 + dz^2)\n"
     ]
    }
   ],
   "source": [
    "print(sol[0][3])"
   ]
  },
  {
   "cell_type": "code",
   "execution_count": 5,
   "metadata": {},
   "outputs": [
    {
     "data": {
      "text/plain": [
       "[[p == 1, q == 8, x == -4/3*sqrt(10) - 2/3, y == 1/6*sqrt(5)*sqrt(2) - 2/3], [p == 1, q == 8, x == 4/3*sqrt(10) - 2/3, y == -1/6*sqrt(5)*sqrt(2) - 2/3]]"
      ]
     },
     "execution_count": 5,
     "metadata": {},
     "output_type": "execute_result"
    }
   ],
   "source": [
    "eq1 = p+q==9\n",
    "eq2 = q*y+p*x==-6\n",
    "eq3 = q*y^2+p*x^2==24\n",
    "solve([eq1,eq2,eq3,p==1],p,q,x,y)"
   ]
  },
  {
   "cell_type": "code",
   "execution_count": 6,
   "metadata": {},
   "outputs": [
    {
     "data": {
      "text/plain": [
       "sqrt(2)"
      ]
     },
     "execution_count": 6,
     "metadata": {},
     "output_type": "execute_result"
    }
   ],
   "source": [
    "sqrt(2)"
   ]
  },
  {
   "cell_type": "code",
   "execution_count": null,
   "metadata": {
    "collapsed": true
   },
   "outputs": [],
   "source": []
  }
 ],
 "metadata": {
  "kernelspec": {
   "display_name": "SageMath 7.4",
   "language": "",
   "name": "sagemath"
  },
  "language_info": {
   "codemirror_mode": {
    "name": "ipython",
    "version": 2
   },
   "file_extension": ".py",
   "mimetype": "text/x-python",
   "name": "python",
   "nbconvert_exporter": "python",
   "pygments_lexer": "ipython2",
   "version": "2.7.13"
  }
 },
 "nbformat": 4,
 "nbformat_minor": 2
}
